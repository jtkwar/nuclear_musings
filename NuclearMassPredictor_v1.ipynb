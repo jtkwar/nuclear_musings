{
 "cells": [
  {
   "cell_type": "markdown",
   "metadata": {},
   "source": [
    "### Nuclear Mass Predictor with Support Vector Machines\n",
    "##### November 2020\n",
    "##### Jeffrey T. Kwarsick, Ph.D.\n",
    "#### Introduction"
   ]
  },
  {
   "cell_type": "code",
   "execution_count": 31,
   "metadata": {},
   "outputs": [],
   "source": [
    "import numpy as np\n",
    "import pandas as pd\n",
    "import math\n",
    "import re\n",
    "from sklearn.model_selection import train_test_split\n",
    "from sklearn.preprocessing import MaxAbsScaler\n",
    "from sklearn.linear_model import LinearRegression\n",
    "from sklearn.metrics import mean_squared_error\n",
    "from sklearn.metrics import mean_absolute_error\n",
    "from sklearn.metrics import mean_squared_error\n",
    "from sklearn.svm import SVR\n",
    "from sklearn.ensemble import RandomForestRegressor\n",
    "from mpl_toolkits import mplot3d\n",
    "import matplotlib.pyplot as plt\n",
    "import matplotlib.gridspec as gridspec\n",
    "from matplotlib.patches import Ellipse\n",
    "import matplotlib.transforms as transforms\n",
    "import scipy as sci\n",
    "from scipy import stats\n",
    "import time\n",
    "from datetime import datetime\n",
    "plt.style.use('ggplot')"
   ]
  },
  {
   "cell_type": "markdown",
   "metadata": {},
   "source": [
    "##### Date Block"
   ]
  },
  {
   "cell_type": "code",
   "execution_count": 2,
   "metadata": {},
   "outputs": [
    {
     "name": "stdout",
     "output_type": "stream",
     "text": [
      "Today is Nov 27, 2020\n"
     ]
    }
   ],
   "source": [
    "today = datetime.now()\n",
    "month = today.strftime(\"%b\")\n",
    "day   = today.strftime(\"%d\")\n",
    "year  = today.strftime(\"%Y\")\n",
    "print(\"Today is {0} {1}, {2}\".format(month, day, year))"
   ]
  },
  {
   "cell_type": "markdown",
   "metadata": {},
   "source": [
    "#### Pre-processing Data from Atomic Mass Evaluation\n",
    "Data used for model training is from the **Atomic Mass Evaluation** published in Chinese Physics C (Chinese Physics C Vol. 41, No. 3 (2017) 030002).  Access to this information can be found at this <a href=\"url\" target=\"https://www-nds.iaea.org/amdc/\">link.</a>\n",
    "\n",
    "- I am using the **mass16.txt** file to extract data from.\n",
    "    - This file contains a myriad of information for nuclei in the dataset.  These include:\n",
    "        - N-Z\n",
    "        - N (neutron number) **WANT THIS**\n",
    "        - Z (proton number) **WANT THIS**\n",
    "        - A (mass number, N + Z)\n",
    "        - EL (Element Symbol) **WANT THIS**\n",
    "        - O (decay channel)\n",
    "        - Mass Excess (keV) **WANT THIS**\n",
    "        - Binding Energy per Nucleon (BE/A, keV) **WANT THIS**\n",
    "        - $\\beta$-Decay Energy (keV) **WANT THIS**\n",
    "        - Atomic Mass (micro-AMUs = millionths of Atomic Mass Units) **WANT THIS**\n",
    "    - Many of these values have errors associated with their values, space separated.\n",
    "    - Some values such as ATOMIC MASS has a space between it's first digit and the rest of the numbers\n",
    "    - Some values have non-numeric values in their value that must be removed\n",
    "    - Some instances do not have values at all and must be handled as NULL or something\n",
    "    - Characters to remove:\n",
    "        - \"#\" is some kind of rounding error thing\n",
    "        - \"*\" is an empty value"
   ]
  },
  {
   "cell_type": "code",
   "execution_count": 3,
   "metadata": {},
   "outputs": [
    {
     "name": "stdout",
     "output_type": "stream",
     "text": [
      "3438\n"
     ]
    }
   ],
   "source": [
    "file = \"ame2016_nuclear_masses.txt\"\n",
    "num_lines = sum(1 for line in open(file))\n",
    "print(num_lines)"
   ]
  },
  {
   "cell_type": "code",
   "execution_count": 54,
   "metadata": {
    "scrolled": true
   },
   "outputs": [],
   "source": [
    "with open(file) as f:\n",
    "    content = f.readlines()\n",
    "f.close()\n",
    "content = [line.rstrip('\\n') for line in content]"
   ]
  },
  {
   "cell_type": "code",
   "execution_count": 55,
   "metadata": {},
   "outputs": [
    {
     "name": "stdout",
     "output_type": "stream",
     "text": [
      "3438\n"
     ]
    }
   ],
   "source": [
    "foo = [line.replace('#', \"\") if \"#\" in line else line for line in content]\n",
    "print(len(foo))"
   ]
  },
  {
   "cell_type": "code",
   "execution_count": 100,
   "metadata": {},
   "outputs": [
    {
     "data": {
      "text/plain": [
       "'1N-Z    N    Z   A  EL    O     MASS EXCESS       BINDING ENERGY/A        BETA-DECAY ENERGY         ATOMIC MASS'"
      ]
     },
     "execution_count": 100,
     "metadata": {},
     "output_type": "execute_result"
    }
   ],
   "source": [
    "foo[0]"
   ]
  },
  {
   "cell_type": "code",
   "execution_count": 63,
   "metadata": {},
   "outputs": [
    {
     "data": {
      "text/plain": [
       "['0',\n",
       " '1',\n",
       " '1',\n",
       " '0',\n",
       " '1',\n",
       " 'n',\n",
       " '8071.31713',\n",
       " '0.00046',\n",
       " '0.0',\n",
       " '0.0',\n",
       " 'B-',\n",
       " '782.347',\n",
       " '0.000',\n",
       " '1008664.91582',\n",
       " '0.00049']"
      ]
     },
     "execution_count": 63,
     "metadata": {},
     "output_type": "execute_result"
    }
   ],
   "source": [
    "tmp = re.sub(r\"(?<=[0-9]{1})\\s{1}(?=.+)\", \"\", foo[2])\n",
    "tmp.split()"
   ]
  },
  {
   "cell_type": "code",
   "execution_count": 72,
   "metadata": {},
   "outputs": [
    {
     "name": "stdout",
     "output_type": "stream",
     "text": [
      "3438\n"
     ]
    }
   ],
   "source": [
    "bar = [re.sub(r\"(?<=\\s[0-9]{1})\\s{1}(?=[0-9])\", \"\", x) for x in foo]\n",
    "bar = [re.sub(r\"(?<=\\s[0-9]{2})\\s{1}(?=[0-9])\", \"\", x) for x in bar]\n",
    "bar = [re.sub(r\"(?<=\\s[0-9]{3})\\s{1}(?=[0-9])\", \"\", x) for x in bar]\n",
    "print(len(bar))"
   ]
  },
  {
   "cell_type": "markdown",
   "metadata": {},
   "source": [
    "#### Visualizing the Data Structure\n",
    "- Upon splitting the data in each line using the `.split()` function we can see that the there is a distribution in the length of the resulting lists generated from each line.  This will require some additional processing in order to have all the data fit nicely into a single dataframe\n",
    "- After making this observation, I sought out look at data of variable length to see what structure I can take advantage of in order to correctly extract the data\n",
    "    - Printed all instance of len(line) = 13, since there were only 4 instances\n",
    "    - Created function `sample_data()` to randomly sample and look at structure of data in each line for longer lines"
   ]
  },
  {
   "cell_type": "code",
   "execution_count": 128,
   "metadata": {},
   "outputs": [
    {
     "data": {
      "text/plain": [
       "(array([   0.,    4., 1413., 1731.,  288.,    0.]),\n",
       " array([12, 13, 14, 15, 16, 17, 18]),\n",
       " <BarContainer object of 6 artists>)"
      ]
     },
     "execution_count": 128,
     "metadata": {},
     "output_type": "execute_result"
    },
    {
     "data": {
      "image/png": "[encoded data removed]",
      "text/plain": [
       "<Figure size 432x288 with 1 Axes>"
      ]
     },
     "metadata": {},
     "output_type": "display_data"
    }
   ],
   "source": [
    "length_of_lines = [len(x.split()) for x in bar[2:]]\n",
    "plt.hist(length_of_lines, bins=np.arange(12,19,1))"
   ]
  },
  {
   "cell_type": "code",
   "execution_count": 83,
   "metadata": {},
   "outputs": [
    {
     "name": "stdout",
     "output_type": "stream",
     "text": [
      "  -1    0    1    1 H          7288.97061    0.00009      0.0      0.0   B-      *                1007825.03224    0.00009\n",
      "  -4    2    6    8 C         35064.268     18.243     3101.524    2.280 B-      *                8037643.042     19.584\n",
      "  -4    7   11   18 Na        25037.988     93.881     6202.217    5.216 B-      *               18026879.386    100.785\n",
      "   9   78   69  147 Tm       -35974.400      6.839     7948.817    0.047 B-      *              146961379.890      7.341\n"
     ]
    }
   ],
   "source": [
    "for i in range(len(bar)):\n",
    "    if len(bar[i].split()) == 13:\n",
    "        print(bar[i])"
   ]
  },
  {
   "cell_type": "code",
   "execution_count": 276,
   "metadata": {},
   "outputs": [],
   "source": [
    "def sample_data(list_of_lines, line_length):\n",
    "    \"\"\"\n",
    "    Given length of line.split(), return lines sampled from the data with given length\n",
    "    \n",
    "    Input:\n",
    "        list_of_lines: (list) of strings \n",
    "        line_length: (int) of list length\n",
    "        \n",
    "    Output:\n",
    "        lines: n lines from dataset of given length when string is split()\n",
    "    \"\"\"\n",
    "    yarg = True\n",
    "    while yarg == True:\n",
    "        tmp = np.random.randint(low = 0, high=len(list_of_lines))\n",
    "        if len(list_of_lines[tmp].split()) == line_length:\n",
    "            print(list_of_lines[tmp])\n",
    "        else:\n",
    "            yarg = False"
   ]
  },
  {
   "cell_type": "code",
   "execution_count": 273,
   "metadata": {},
   "outputs": [
    {
     "name": "stdout",
     "output_type": "stream",
     "text": [
      "  42  120   78  198 Pt       -29903.999      2.100     7914.150    0.011 B-   -323.219    2.059 197967896.734      2.254\n",
      "  20   66   46  112 Pd       -86321.562      6.544     8520.724    0.058 B-    262.156    6.978 111907329.986      7.025\n",
      "  36  111   75  186 Re       -41927.086      0.826     7981.269    0.004 B-   1072.857    0.837 185954989.419      0.886\n"
     ]
    }
   ],
   "source": [
    "sample_data(bar,14)"
   ]
  },
  {
   "cell_type": "code",
   "execution_count": 275,
   "metadata": {},
   "outputs": [
    {
     "name": "stdout",
     "output_type": "stream",
     "text": [
      "  55  161  106  267 Sg   -a  115806       257        7327       1    B-  -2960     367    267124322       276\n"
     ]
    }
   ],
   "source": [
    "sample_data(bar, 15)"
   ]
  },
  {
   "cell_type": "code",
   "execution_count": 274,
   "metadata": {},
   "outputs": [
    {
     "name": "stdout",
     "output_type": "stream",
     "text": [
      "0 42  103   61  164 Pm    x  -38870       400        8017       2    B-   9232     499    163958271       429\n"
     ]
    }
   ],
   "source": [
    "sample_data(bar, 16)"
   ]
  },
  {
   "cell_type": "markdown",
   "metadata": {},
   "source": [
    "#### Using Regular Expressions to Extract Element Symbol\n",
    "I love the mini-game of using regular expressions in order to extract data from strings in the dataset.  After playing around on <a href=\"url\" target=\"https://regex101.com/\">regex101.com</a> with some sample data, the below expression can be used to extract the element symbol from each line."
   ]
  },
  {
   "cell_type": "code",
   "execution_count": 277,
   "metadata": {},
   "outputs": [
    {
     "data": {
      "text/plain": [
       "'Ca'"
      ]
     },
     "execution_count": 277,
     "metadata": {},
     "output_type": "execute_result"
    }
   ],
   "source": [
    "sym = re.findall(r\"(?<=\\s{1})([A-Z][a-z]?|n)(?=\\s)\", bar[409])[0]\n",
    "sym"
   ]
  },
  {
   "cell_type": "code",
   "execution_count": 278,
   "metadata": {},
   "outputs": [],
   "source": [
    "reg = re.compile(\"([A-Z][a-z]?)(?=\\s)\")\n",
    "el_sym = [re.findall(r\"(?<=\\s{1})([A-Z][a-z]?|n)(?=\\s)\", bar[i])[0] for i in range(2,len(bar))]"
   ]
  },
  {
   "cell_type": "markdown",
   "metadata": {},
   "source": [
    "#### Remove first 2 lines from dataset since they contain no data, only headers for each of the columns"
   ]
  },
  {
   "cell_type": "code",
   "execution_count": 198,
   "metadata": {
    "scrolled": true
   },
   "outputs": [],
   "source": [
    "out = [bar[i].split() for i in range(2,len(bar))]"
   ]
  },
  {
   "cell_type": "markdown",
   "metadata": {},
   "source": [
    "Since the data is not consistent from line to line, I need a strategy for extracting the data that I want from each line.  As it turns out, the regular expression that was used to extract the element symbol can be used to identify the indices of all instances of non-digit characters in the line.\n",
    "- Left of the Element Symbol (in order from right to left) are A, Z, N, and N-Z\n",
    "- Left of the B- characters (present in every line) are BE/A error, BE/A, Mass Excess error, and Mass Excess\n",
    "- Right of the B- character are the Beta Decay Energy, Beta Decay Energy Error, Atomic Mass, Atomic Mass Error\n",
    "    - In the event that a beta decay energy is not calculable, there is an asterisk in place of Beta Decay Energy and error, this must be handled with care"
   ]
  },
  {
   "cell_type": "code",
   "execution_count": 149,
   "metadata": {},
   "outputs": [],
   "source": [
    "idxs = [i for i, item in enumerate(out[6]) if re.search(r\"([A-Z][a-z]?|n)\", item)]"
   ]
  },
  {
   "cell_type": "code",
   "execution_count": 153,
   "metadata": {},
   "outputs": [],
   "source": [
    "tes = [[i for i, item in enumerate(out[x]) if re.search(r\"([A-Z][a-z]?|n)\", item)] for x in range(len(out))]"
   ]
  },
  {
   "cell_type": "code",
   "execution_count": 202,
   "metadata": {},
   "outputs": [
    {
     "data": {
      "text/plain": [
       "[[5, 10],\n",
       " [4, 9],\n",
       " [5, 10],\n",
       " [5, 10],\n",
       " [4, 9],\n",
       " [4, 10],\n",
       " [5, 6, 11],\n",
       " [4, 9],\n",
       " [4, 10],\n",
       " [5, 6, 11]]"
      ]
     },
     "execution_count": 202,
     "metadata": {},
     "output_type": "execute_result"
    }
   ],
   "source": [
    "tes[0:10]"
   ]
  },
  {
   "cell_type": "code",
   "execution_count": 188,
   "metadata": {},
   "outputs": [],
   "source": [
    "A = [int(out[i][tes[i][0] - 1]) for i in range(len(tes))]\n",
    "Z = [int(out[i][tes[i][0] - 2]) for i in range(len(tes))]\n",
    "N = [int(out[i][tes[i][0] - 3]) for i in range(len(tes))]\n",
    "N_Z = [(N[i] - Z[i]) for i in range(len(Z))]"
   ]
  },
  {
   "cell_type": "code",
   "execution_count": 284,
   "metadata": {},
   "outputs": [],
   "source": [
    "BE_A            = [float(out[i][tes[i][-1] - 2]) for i in range(len(tes))]\n",
    "BE_A_err        = [float(out[i][tes[i][-1] - 1]) for i in range(len(tes))]\n",
    "mass_excess     = [float(out[i][tes[i][-1] - 4]) for i in range(len(tes))]\n",
    "mass_excess_err = [float(out[i][tes[i][-1] - 3]) for i in range(len(tes))]"
   ]
  },
  {
   "cell_type": "code",
   "execution_count": 292,
   "metadata": {},
   "outputs": [
    {
     "data": {
      "text/plain": [
       "[1008664.91582,\n",
       " 1007825.03224,\n",
       " 2014101.77811,\n",
       " 3016049.28199,\n",
       " 3016029.32265,\n",
       " 3030775.0,\n",
       " 4026431.868,\n",
       " 4002603.25413,\n",
       " 4027185.562,\n",
       " 5035311.493]"
      ]
     },
     "execution_count": 292,
     "metadata": {},
     "output_type": "execute_result"
    }
   ],
   "source": [
    "atomic_mass     = [float(out[i][-2]) for i in range(len(out))]\n",
    "atomic_mass_err = [float(out[i][-1]) for i in range(len(out))]\n",
    "atomic_mass[0:10]"
   ]
  },
  {
   "cell_type": "code",
   "execution_count": 295,
   "metadata": {},
   "outputs": [],
   "source": [
    "beta_E, beta_E_err = [], []\n",
    "for i in range(len(out)):\n",
    "    if out[i][tes[i][-1]+1] == \"*\":\n",
    "        beta_E.append(None)\n",
    "        beta_E_err.append(None)\n",
    "    else:\n",
    "        beta_E.append(out[i][tes[i][-1]+1])\n",
    "        beta_E_err.append(out[i][tes[i][-1]+2])"
   ]
  },
  {
   "cell_type": "code",
   "execution_count": 298,
   "metadata": {},
   "outputs": [
    {
     "data": {
      "text/plain": [
       "3436"
      ]
     },
     "execution_count": 298,
     "metadata": {},
     "output_type": "execute_result"
    }
   ],
   "source": [
    "len(beta_E_err)"
   ]
  },
  {
   "cell_type": "code",
   "execution_count": 301,
   "metadata": {},
   "outputs": [],
   "source": [
    "test_df = pd.DataFrame(list(zip(el_sym, Z, N, A, N_Z, BE_A, BE_A_err, mass_excess, mass_excess_err,\n",
    "                               atomic_mass, atomic_mass_err, beta_E, beta_E_err)))\n",
    "test_df.columns = [\"Element_Symbol\", \"Z\", \"A\", \"N\", \"N-Z\", \"BE_A\", \"BE_A_err\", \"MassExcess\", \"MassExcessErr\",\n",
    "                  \"AtomicMass\", \"AtomicMassErr\", \"BetaDecayE\", \"BetaDecayE_err\"]\n",
    "test_df.to_csv(\"cleaned_NuclearData.csv\", index=False)"
   ]
  },
  {
   "cell_type": "code",
   "execution_count": 300,
   "metadata": {},
   "outputs": [
    {
     "data": {
      "text/html": [
       "<div>\n",
       "<style scoped>\n",
       "    .dataframe tbody tr th:only-of-type {\n",
       "        vertical-align: middle;\n",
       "    }\n",
       "\n",
       "    .dataframe tbody tr th {\n",
       "        vertical-align: top;\n",
       "    }\n",
       "\n",
       "    .dataframe thead th {\n",
       "        text-align: right;\n",
       "    }\n",
       "</style>\n",
       "<table border=\"1\" class=\"dataframe\">\n",
       "  <thead>\n",
       "    <tr style=\"text-align: right;\">\n",
       "      <th></th>\n",
       "      <th>Element_Symbol</th>\n",
       "      <th>Z</th>\n",
       "      <th>A</th>\n",
       "      <th>N</th>\n",
       "      <th>N-Z</th>\n",
       "      <th>BE_A</th>\n",
       "      <th>BE_A_err</th>\n",
       "      <th>MassExcess</th>\n",
       "      <th>MassExcessErr</th>\n",
       "      <th>AtomicMass</th>\n",
       "      <th>AtomicMassErr</th>\n",
       "      <th>BetaDecayE</th>\n",
       "      <th>BetaDecayE_err</th>\n",
       "    </tr>\n",
       "  </thead>\n",
       "  <tbody>\n",
       "    <tr>\n",
       "      <th>402</th>\n",
       "      <td>Ni</td>\n",
       "      <td>28</td>\n",
       "      <td>20</td>\n",
       "      <td>48</td>\n",
       "      <td>-8</td>\n",
       "      <td>7265.000</td>\n",
       "      <td>10.000</td>\n",
       "      <td>16793.000</td>\n",
       "      <td>502.000</td>\n",
       "      <td>4.801803e+07</td>\n",
       "      <td>538.000</td>\n",
       "      <td>None</td>\n",
       "      <td>None</td>\n",
       "    </tr>\n",
       "    <tr>\n",
       "      <th>415</th>\n",
       "      <td>Ni</td>\n",
       "      <td>28</td>\n",
       "      <td>21</td>\n",
       "      <td>49</td>\n",
       "      <td>-7</td>\n",
       "      <td>7457.000</td>\n",
       "      <td>12.000</td>\n",
       "      <td>8200.000</td>\n",
       "      <td>600.000</td>\n",
       "      <td>4.900880e+07</td>\n",
       "      <td>644.000</td>\n",
       "      <td>None</td>\n",
       "      <td>None</td>\n",
       "    </tr>\n",
       "    <tr>\n",
       "      <th>427</th>\n",
       "      <td>Ni</td>\n",
       "      <td>28</td>\n",
       "      <td>22</td>\n",
       "      <td>50</td>\n",
       "      <td>-6</td>\n",
       "      <td>7716.000</td>\n",
       "      <td>10.000</td>\n",
       "      <td>-4120.000</td>\n",
       "      <td>500.000</td>\n",
       "      <td>4.999558e+07</td>\n",
       "      <td>537.000</td>\n",
       "      <td>None</td>\n",
       "      <td>None</td>\n",
       "    </tr>\n",
       "    <tr>\n",
       "      <th>439</th>\n",
       "      <td>Ni</td>\n",
       "      <td>28</td>\n",
       "      <td>23</td>\n",
       "      <td>51</td>\n",
       "      <td>-5</td>\n",
       "      <td>7875.000</td>\n",
       "      <td>10.000</td>\n",
       "      <td>-11900.000</td>\n",
       "      <td>500.000</td>\n",
       "      <td>5.098722e+07</td>\n",
       "      <td>537.000</td>\n",
       "      <td>None</td>\n",
       "      <td>None</td>\n",
       "    </tr>\n",
       "    <tr>\n",
       "      <th>450</th>\n",
       "      <td>Ni</td>\n",
       "      <td>28</td>\n",
       "      <td>24</td>\n",
       "      <td>52</td>\n",
       "      <td>-4</td>\n",
       "      <td>8079.000</td>\n",
       "      <td>8.000</td>\n",
       "      <td>-22330.000</td>\n",
       "      <td>400.000</td>\n",
       "      <td>5.197603e+07</td>\n",
       "      <td>429.000</td>\n",
       "      <td>-20049</td>\n",
       "      <td>721</td>\n",
       "    </tr>\n",
       "    <tr>\n",
       "      <th>462</th>\n",
       "      <td>Ni</td>\n",
       "      <td>28</td>\n",
       "      <td>25</td>\n",
       "      <td>53</td>\n",
       "      <td>-3</td>\n",
       "      <td>8217.074</td>\n",
       "      <td>0.475</td>\n",
       "      <td>-29630.824</td>\n",
       "      <td>25.150</td>\n",
       "      <td>5.296819e+07</td>\n",
       "      <td>27.000</td>\n",
       "      <td>-16361</td>\n",
       "      <td>501</td>\n",
       "    </tr>\n",
       "    <tr>\n",
       "      <th>473</th>\n",
       "      <td>Ni</td>\n",
       "      <td>28</td>\n",
       "      <td>26</td>\n",
       "      <td>54</td>\n",
       "      <td>-2</td>\n",
       "      <td>8393.032</td>\n",
       "      <td>0.086</td>\n",
       "      <td>-39278.308</td>\n",
       "      <td>4.657</td>\n",
       "      <td>5.395783e+07</td>\n",
       "      <td>5.000</td>\n",
       "      <td>-17868</td>\n",
       "      <td>400</td>\n",
       "    </tr>\n",
       "    <tr>\n",
       "      <th>485</th>\n",
       "      <td>Ni</td>\n",
       "      <td>28</td>\n",
       "      <td>27</td>\n",
       "      <td>55</td>\n",
       "      <td>-1</td>\n",
       "      <td>8497.320</td>\n",
       "      <td>0.013</td>\n",
       "      <td>-45335.849</td>\n",
       "      <td>0.719</td>\n",
       "      <td>5.495133e+07</td>\n",
       "      <td>0.771</td>\n",
       "      <td>-13700.449</td>\n",
       "      <td>155.561</td>\n",
       "    </tr>\n",
       "    <tr>\n",
       "      <th>497</th>\n",
       "      <td>Ni</td>\n",
       "      <td>28</td>\n",
       "      <td>28</td>\n",
       "      <td>56</td>\n",
       "      <td>0</td>\n",
       "      <td>8642.779</td>\n",
       "      <td>0.008</td>\n",
       "      <td>-53907.539</td>\n",
       "      <td>0.422</td>\n",
       "      <td>5.594213e+07</td>\n",
       "      <td>0.452</td>\n",
       "      <td>-15264.511</td>\n",
       "      <td>14.910</td>\n",
       "    </tr>\n",
       "    <tr>\n",
       "      <th>509</th>\n",
       "      <td>Ni</td>\n",
       "      <td>28</td>\n",
       "      <td>29</td>\n",
       "      <td>57</td>\n",
       "      <td>1</td>\n",
       "      <td>8670.933</td>\n",
       "      <td>0.010</td>\n",
       "      <td>-56083.833</td>\n",
       "      <td>0.582</td>\n",
       "      <td>5.693979e+07</td>\n",
       "      <td>0.624</td>\n",
       "      <td>-8774.947</td>\n",
       "      <td>0.439</td>\n",
       "    </tr>\n",
       "    <tr>\n",
       "      <th>521</th>\n",
       "      <td>Ni</td>\n",
       "      <td>28</td>\n",
       "      <td>30</td>\n",
       "      <td>58</td>\n",
       "      <td>2</td>\n",
       "      <td>8732.059</td>\n",
       "      <td>0.006</td>\n",
       "      <td>-60228.744</td>\n",
       "      <td>0.373</td>\n",
       "      <td>5.793534e+07</td>\n",
       "      <td>0.400</td>\n",
       "      <td>-8561.019</td>\n",
       "      <td>0.443</td>\n",
       "    </tr>\n",
       "    <tr>\n",
       "      <th>533</th>\n",
       "      <td>Ni</td>\n",
       "      <td>28</td>\n",
       "      <td>31</td>\n",
       "      <td>59</td>\n",
       "      <td>3</td>\n",
       "      <td>8736.588</td>\n",
       "      <td>0.006</td>\n",
       "      <td>-61156.707</td>\n",
       "      <td>0.374</td>\n",
       "      <td>5.893435e+07</td>\n",
       "      <td>0.402</td>\n",
       "      <td>-4798.380</td>\n",
       "      <td>0.397</td>\n",
       "    </tr>\n",
       "    <tr>\n",
       "      <th>545</th>\n",
       "      <td>Ni</td>\n",
       "      <td>28</td>\n",
       "      <td>32</td>\n",
       "      <td>60</td>\n",
       "      <td>4</td>\n",
       "      <td>8780.774</td>\n",
       "      <td>0.006</td>\n",
       "      <td>-64473.118</td>\n",
       "      <td>0.376</td>\n",
       "      <td>5.993079e+07</td>\n",
       "      <td>0.403</td>\n",
       "      <td>-6127.982</td>\n",
       "      <td>1.573</td>\n",
       "    </tr>\n",
       "    <tr>\n",
       "      <th>558</th>\n",
       "      <td>Ni</td>\n",
       "      <td>28</td>\n",
       "      <td>33</td>\n",
       "      <td>61</td>\n",
       "      <td>5</td>\n",
       "      <td>8765.025</td>\n",
       "      <td>0.006</td>\n",
       "      <td>-64221.905</td>\n",
       "      <td>0.378</td>\n",
       "      <td>6.093105e+07</td>\n",
       "      <td>0.405</td>\n",
       "      <td>-2237.845</td>\n",
       "      <td>0.966</td>\n",
       "    </tr>\n",
       "    <tr>\n",
       "      <th>570</th>\n",
       "      <td>Ni</td>\n",
       "      <td>28</td>\n",
       "      <td>34</td>\n",
       "      <td>62</td>\n",
       "      <td>6</td>\n",
       "      <td>8794.553</td>\n",
       "      <td>0.007</td>\n",
       "      <td>-66746.323</td>\n",
       "      <td>0.439</td>\n",
       "      <td>6.192834e+07</td>\n",
       "      <td>0.470</td>\n",
       "      <td>-3958.896</td>\n",
       "      <td>0.475</td>\n",
       "    </tr>\n",
       "    <tr>\n",
       "      <th>582</th>\n",
       "      <td>Ni</td>\n",
       "      <td>28</td>\n",
       "      <td>35</td>\n",
       "      <td>63</td>\n",
       "      <td>7</td>\n",
       "      <td>8763.493</td>\n",
       "      <td>0.007</td>\n",
       "      <td>-65512.775</td>\n",
       "      <td>0.440</td>\n",
       "      <td>6.292967e+07</td>\n",
       "      <td>0.472</td>\n",
       "      <td>66.977</td>\n",
       "      <td>0.015</td>\n",
       "    </tr>\n",
       "    <tr>\n",
       "      <th>594</th>\n",
       "      <td>Ni</td>\n",
       "      <td>28</td>\n",
       "      <td>36</td>\n",
       "      <td>64</td>\n",
       "      <td>8</td>\n",
       "      <td>8777.461</td>\n",
       "      <td>0.007</td>\n",
       "      <td>-67098.921</td>\n",
       "      <td>0.475</td>\n",
       "      <td>6.392797e+07</td>\n",
       "      <td>0.510</td>\n",
       "      <td>-1674.376</td>\n",
       "      <td>0.225</td>\n",
       "    </tr>\n",
       "    <tr>\n",
       "      <th>606</th>\n",
       "      <td>Ni</td>\n",
       "      <td>28</td>\n",
       "      <td>37</td>\n",
       "      <td>65</td>\n",
       "      <td>9</td>\n",
       "      <td>8736.240</td>\n",
       "      <td>0.008</td>\n",
       "      <td>-65125.685</td>\n",
       "      <td>0.495</td>\n",
       "      <td>6.493008e+07</td>\n",
       "      <td>0.531</td>\n",
       "      <td>2137.975</td>\n",
       "      <td>0.706</td>\n",
       "    </tr>\n",
       "    <tr>\n",
       "      <th>618</th>\n",
       "      <td>Ni</td>\n",
       "      <td>28</td>\n",
       "      <td>38</td>\n",
       "      <td>66</td>\n",
       "      <td>10</td>\n",
       "      <td>8739.508</td>\n",
       "      <td>0.021</td>\n",
       "      <td>-66006.285</td>\n",
       "      <td>1.397</td>\n",
       "      <td>6.592914e+07</td>\n",
       "      <td>1.500</td>\n",
       "      <td>251.987</td>\n",
       "      <td>1.543</td>\n",
       "    </tr>\n",
       "    <tr>\n",
       "      <th>630</th>\n",
       "      <td>Ni</td>\n",
       "      <td>28</td>\n",
       "      <td>39</td>\n",
       "      <td>67</td>\n",
       "      <td>11</td>\n",
       "      <td>8695.750</td>\n",
       "      <td>0.043</td>\n",
       "      <td>-63742.680</td>\n",
       "      <td>2.888</td>\n",
       "      <td>6.693157e+07</td>\n",
       "      <td>3.100</td>\n",
       "      <td>3576.832</td>\n",
       "      <td>3.023</td>\n",
       "    </tr>\n",
       "    <tr>\n",
       "      <th>642</th>\n",
       "      <td>Ni</td>\n",
       "      <td>28</td>\n",
       "      <td>40</td>\n",
       "      <td>68</td>\n",
       "      <td>12</td>\n",
       "      <td>8682.466</td>\n",
       "      <td>0.044</td>\n",
       "      <td>-63463.814</td>\n",
       "      <td>2.981</td>\n",
       "      <td>6.793187e+07</td>\n",
       "      <td>3.200</td>\n",
       "      <td>2103.220</td>\n",
       "      <td>3.375</td>\n",
       "    </tr>\n",
       "    <tr>\n",
       "      <th>654</th>\n",
       "      <td>Ni</td>\n",
       "      <td>28</td>\n",
       "      <td>41</td>\n",
       "      <td>69</td>\n",
       "      <td>13</td>\n",
       "      <td>8623.099</td>\n",
       "      <td>0.054</td>\n",
       "      <td>-59978.648</td>\n",
       "      <td>3.726</td>\n",
       "      <td>6.893561e+07</td>\n",
       "      <td>4.000</td>\n",
       "      <td>5757.564</td>\n",
       "      <td>3.979</td>\n",
       "    </tr>\n",
       "    <tr>\n",
       "      <th>667</th>\n",
       "      <td>Ni</td>\n",
       "      <td>28</td>\n",
       "      <td>42</td>\n",
       "      <td>70</td>\n",
       "      <td>14</td>\n",
       "      <td>8604.291</td>\n",
       "      <td>0.031</td>\n",
       "      <td>-59213.860</td>\n",
       "      <td>2.144</td>\n",
       "      <td>6.993643e+07</td>\n",
       "      <td>2.301</td>\n",
       "      <td>3762.513</td>\n",
       "      <td>2.401</td>\n",
       "    </tr>\n",
       "    <tr>\n",
       "      <th>679</th>\n",
       "      <td>Ni</td>\n",
       "      <td>28</td>\n",
       "      <td>43</td>\n",
       "      <td>71</td>\n",
       "      <td>15</td>\n",
       "      <td>8543.156</td>\n",
       "      <td>0.032</td>\n",
       "      <td>-55406.228</td>\n",
       "      <td>2.237</td>\n",
       "      <td>7.094052e+07</td>\n",
       "      <td>2.401</td>\n",
       "      <td>7304.899</td>\n",
       "      <td>2.688</td>\n",
       "    </tr>\n",
       "    <tr>\n",
       "      <th>692</th>\n",
       "      <td>Ni</td>\n",
       "      <td>28</td>\n",
       "      <td>44</td>\n",
       "      <td>72</td>\n",
       "      <td>16</td>\n",
       "      <td>8520.211</td>\n",
       "      <td>0.031</td>\n",
       "      <td>-54226.060</td>\n",
       "      <td>2.237</td>\n",
       "      <td>7.194179e+07</td>\n",
       "      <td>2.401</td>\n",
       "      <td>5556.938</td>\n",
       "      <td>2.637</td>\n",
       "    </tr>\n",
       "    <tr>\n",
       "      <th>704</th>\n",
       "      <td>Ni</td>\n",
       "      <td>28</td>\n",
       "      <td>45</td>\n",
       "      <td>73</td>\n",
       "      <td>17</td>\n",
       "      <td>8457.652</td>\n",
       "      <td>0.033</td>\n",
       "      <td>-50108.152</td>\n",
       "      <td>2.423</td>\n",
       "      <td>7.294621e+07</td>\n",
       "      <td>2.601</td>\n",
       "      <td>8879.285</td>\n",
       "      <td>3.104</td>\n",
       "    </tr>\n",
       "    <tr>\n",
       "      <th>717</th>\n",
       "      <td>Ni</td>\n",
       "      <td>28</td>\n",
       "      <td>46</td>\n",
       "      <td>74</td>\n",
       "      <td>18</td>\n",
       "      <td>8430.000</td>\n",
       "      <td>3.000</td>\n",
       "      <td>-48456.000</td>\n",
       "      <td>196.000</td>\n",
       "      <td>7.394798e+07</td>\n",
       "      <td>210.000</td>\n",
       "      <td>7550</td>\n",
       "      <td>196</td>\n",
       "    </tr>\n",
       "    <tr>\n",
       "      <th>730</th>\n",
       "      <td>Ni</td>\n",
       "      <td>28</td>\n",
       "      <td>47</td>\n",
       "      <td>75</td>\n",
       "      <td>19</td>\n",
       "      <td>8366.000</td>\n",
       "      <td>4.000</td>\n",
       "      <td>-44030.000</td>\n",
       "      <td>300.000</td>\n",
       "      <td>7.495273e+07</td>\n",
       "      <td>322.000</td>\n",
       "      <td>10441</td>\n",
       "      <td>300</td>\n",
       "    </tr>\n",
       "    <tr>\n",
       "      <th>743</th>\n",
       "      <td>Ni</td>\n",
       "      <td>28</td>\n",
       "      <td>48</td>\n",
       "      <td>76</td>\n",
       "      <td>20</td>\n",
       "      <td>8331.000</td>\n",
       "      <td>5.000</td>\n",
       "      <td>-41630.000</td>\n",
       "      <td>400.000</td>\n",
       "      <td>7.595531e+07</td>\n",
       "      <td>429.000</td>\n",
       "      <td>9346</td>\n",
       "      <td>400</td>\n",
       "    </tr>\n",
       "    <tr>\n",
       "      <th>756</th>\n",
       "      <td>Ni</td>\n",
       "      <td>28</td>\n",
       "      <td>49</td>\n",
       "      <td>77</td>\n",
       "      <td>21</td>\n",
       "      <td>8265.000</td>\n",
       "      <td>6.000</td>\n",
       "      <td>-36800.000</td>\n",
       "      <td>500.000</td>\n",
       "      <td>7.696049e+07</td>\n",
       "      <td>537.000</td>\n",
       "      <td>11824</td>\n",
       "      <td>522</td>\n",
       "    </tr>\n",
       "    <tr>\n",
       "      <th>769</th>\n",
       "      <td>Ni</td>\n",
       "      <td>28</td>\n",
       "      <td>50</td>\n",
       "      <td>78</td>\n",
       "      <td>22</td>\n",
       "      <td>8225.000</td>\n",
       "      <td>8.000</td>\n",
       "      <td>-33890.000</td>\n",
       "      <td>600.000</td>\n",
       "      <td>7.796362e+07</td>\n",
       "      <td>644.000</td>\n",
       "      <td>10608</td>\n",
       "      <td>783</td>\n",
       "    </tr>\n",
       "    <tr>\n",
       "      <th>782</th>\n",
       "      <td>Ni</td>\n",
       "      <td>28</td>\n",
       "      <td>51</td>\n",
       "      <td>79</td>\n",
       "      <td>23</td>\n",
       "      <td>8143.000</td>\n",
       "      <td>8.000</td>\n",
       "      <td>-27570.000</td>\n",
       "      <td>600.000</td>\n",
       "      <td>7.897040e+07</td>\n",
       "      <td>644.000</td>\n",
       "      <td>14170</td>\n",
       "      <td>671</td>\n",
       "    </tr>\n",
       "    <tr>\n",
       "      <th>796</th>\n",
       "      <td>Ni</td>\n",
       "      <td>28</td>\n",
       "      <td>52</td>\n",
       "      <td>80</td>\n",
       "      <td>24</td>\n",
       "      <td>8080.000</td>\n",
       "      <td>9.000</td>\n",
       "      <td>-22630.000</td>\n",
       "      <td>700.000</td>\n",
       "      <td>7.997571e+07</td>\n",
       "      <td>751.000</td>\n",
       "      <td>13570</td>\n",
       "      <td>806</td>\n",
       "    </tr>\n",
       "  </tbody>\n",
       "</table>\n",
       "</div>"
      ],
      "text/plain": [
       "    Element_Symbol   Z   A   N  N-Z      BE_A  BE_A_err  MassExcess  \\\n",
       "402             Ni  28  20  48   -8  7265.000    10.000   16793.000   \n",
       "415             Ni  28  21  49   -7  7457.000    12.000    8200.000   \n",
       "427             Ni  28  22  50   -6  7716.000    10.000   -4120.000   \n",
       "439             Ni  28  23  51   -5  7875.000    10.000  -11900.000   \n",
       "450             Ni  28  24  52   -4  8079.000     8.000  -22330.000   \n",
       "462             Ni  28  25  53   -3  8217.074     0.475  -29630.824   \n",
       "473             Ni  28  26  54   -2  8393.032     0.086  -39278.308   \n",
       "485             Ni  28  27  55   -1  8497.320     0.013  -45335.849   \n",
       "497             Ni  28  28  56    0  8642.779     0.008  -53907.539   \n",
       "509             Ni  28  29  57    1  8670.933     0.010  -56083.833   \n",
       "521             Ni  28  30  58    2  8732.059     0.006  -60228.744   \n",
       "533             Ni  28  31  59    3  8736.588     0.006  -61156.707   \n",
       "545             Ni  28  32  60    4  8780.774     0.006  -64473.118   \n",
       "558             Ni  28  33  61    5  8765.025     0.006  -64221.905   \n",
       "570             Ni  28  34  62    6  8794.553     0.007  -66746.323   \n",
       "582             Ni  28  35  63    7  8763.493     0.007  -65512.775   \n",
       "594             Ni  28  36  64    8  8777.461     0.007  -67098.921   \n",
       "606             Ni  28  37  65    9  8736.240     0.008  -65125.685   \n",
       "618             Ni  28  38  66   10  8739.508     0.021  -66006.285   \n",
       "630             Ni  28  39  67   11  8695.750     0.043  -63742.680   \n",
       "642             Ni  28  40  68   12  8682.466     0.044  -63463.814   \n",
       "654             Ni  28  41  69   13  8623.099     0.054  -59978.648   \n",
       "667             Ni  28  42  70   14  8604.291     0.031  -59213.860   \n",
       "679             Ni  28  43  71   15  8543.156     0.032  -55406.228   \n",
       "692             Ni  28  44  72   16  8520.211     0.031  -54226.060   \n",
       "704             Ni  28  45  73   17  8457.652     0.033  -50108.152   \n",
       "717             Ni  28  46  74   18  8430.000     3.000  -48456.000   \n",
       "730             Ni  28  47  75   19  8366.000     4.000  -44030.000   \n",
       "743             Ni  28  48  76   20  8331.000     5.000  -41630.000   \n",
       "756             Ni  28  49  77   21  8265.000     6.000  -36800.000   \n",
       "769             Ni  28  50  78   22  8225.000     8.000  -33890.000   \n",
       "782             Ni  28  51  79   23  8143.000     8.000  -27570.000   \n",
       "796             Ni  28  52  80   24  8080.000     9.000  -22630.000   \n",
       "\n",
       "     MassExcessErr    AtomicMass  AtomicMassErr  BetaDecayE BetaDecayE_err  \n",
       "402        502.000  4.801803e+07        538.000        None           None  \n",
       "415        600.000  4.900880e+07        644.000        None           None  \n",
       "427        500.000  4.999558e+07        537.000        None           None  \n",
       "439        500.000  5.098722e+07        537.000        None           None  \n",
       "450        400.000  5.197603e+07        429.000      -20049            721  \n",
       "462         25.150  5.296819e+07         27.000      -16361            501  \n",
       "473          4.657  5.395783e+07          5.000      -17868            400  \n",
       "485          0.719  5.495133e+07          0.771  -13700.449        155.561  \n",
       "497          0.422  5.594213e+07          0.452  -15264.511         14.910  \n",
       "509          0.582  5.693979e+07          0.624   -8774.947          0.439  \n",
       "521          0.373  5.793534e+07          0.400   -8561.019          0.443  \n",
       "533          0.374  5.893435e+07          0.402   -4798.380          0.397  \n",
       "545          0.376  5.993079e+07          0.403   -6127.982          1.573  \n",
       "558          0.378  6.093105e+07          0.405   -2237.845          0.966  \n",
       "570          0.439  6.192834e+07          0.470   -3958.896          0.475  \n",
       "582          0.440  6.292967e+07          0.472      66.977          0.015  \n",
       "594          0.475  6.392797e+07          0.510   -1674.376          0.225  \n",
       "606          0.495  6.493008e+07          0.531    2137.975          0.706  \n",
       "618          1.397  6.592914e+07          1.500     251.987          1.543  \n",
       "630          2.888  6.693157e+07          3.100    3576.832          3.023  \n",
       "642          2.981  6.793187e+07          3.200    2103.220          3.375  \n",
       "654          3.726  6.893561e+07          4.000    5757.564          3.979  \n",
       "667          2.144  6.993643e+07          2.301    3762.513          2.401  \n",
       "679          2.237  7.094052e+07          2.401    7304.899          2.688  \n",
       "692          2.237  7.194179e+07          2.401    5556.938          2.637  \n",
       "704          2.423  7.294621e+07          2.601    8879.285          3.104  \n",
       "717        196.000  7.394798e+07        210.000        7550            196  \n",
       "730        300.000  7.495273e+07        322.000       10441            300  \n",
       "743        400.000  7.595531e+07        429.000        9346            400  \n",
       "756        500.000  7.696049e+07        537.000       11824            522  \n",
       "769        600.000  7.796362e+07        644.000       10608            783  \n",
       "782        600.000  7.897040e+07        644.000       14170            671  \n",
       "796        700.000  7.997571e+07        751.000       13570            806  "
      ]
     },
     "execution_count": 300,
     "metadata": {},
     "output_type": "execute_result"
    }
   ],
   "source": [
    "test_df.query(\"Element_Symbol == 'Ni'\")"
   ]
  },
  {
   "cell_type": "code",
   "execution_count": 289,
   "metadata": {},
   "outputs": [
    {
     "data": {
      "text/plain": [
       "Element_Symbol          n\n",
       "Z                     118\n",
       "A                     177\n",
       "N                     295\n",
       "N-Z                    61\n",
       "BE_A              8794.55\n",
       "BE_A_err              667\n",
       "MassExcess         201512\n",
       "MassExcessErr        2003\n",
       "dtype: object"
      ]
     },
     "execution_count": 289,
     "metadata": {},
     "output_type": "execute_result"
    }
   ],
   "source": [
    "test_df.max()"
   ]
  }
 ],
 "metadata": {
  "kernelspec": {
   "display_name": "Python 3",
   "language": "python",
   "name": "python3"
  },
  "language_info": {
   "codemirror_mode": {
    "name": "ipython",
    "version": 3
   },
   "file_extension": ".py",
   "mimetype": "text/x-python",
   "name": "python",
   "nbconvert_exporter": "python",
   "pygments_lexer": "ipython3",
   "version": "3.8.5"
  }
 },
 "nbformat": 4,
 "nbformat_minor": 4
}
