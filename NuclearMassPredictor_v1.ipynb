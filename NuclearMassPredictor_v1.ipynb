{
 "cells": [
  {
   "cell_type": "markdown",
   "metadata": {},
   "source": [
    "### Nuclear Mass Predictor with Support Vector Machines\n",
    "##### November 2020\n",
    "##### Jeffrey T. Kwarsick, Ph.D.\n",
    "#### Introduction"
   ]
  },
  {
   "cell_type": "code",
   "execution_count": 31,
   "metadata": {},
   "outputs": [],
   "source": [
    "import numpy as np\n",
    "import pandas as pd\n",
    "import math\n",
    "import re\n",
    "from sklearn.model_selection import train_test_split\n",
    "from sklearn.preprocessing import MaxAbsScaler\n",
    "from sklearn.linear_model import LinearRegression\n",
    "from sklearn.metrics import mean_squared_error\n",
    "from sklearn.metrics import mean_absolute_error\n",
    "from sklearn.metrics import mean_squared_error\n",
    "from sklearn.svm import SVR\n",
    "from sklearn.ensemble import RandomForestRegressor\n",
    "from mpl_toolkits import mplot3d\n",
    "import matplotlib.pyplot as plt\n",
    "import matplotlib.gridspec as gridspec\n",
    "from matplotlib.patches import Ellipse\n",
    "import matplotlib.transforms as transforms\n",
    "import scipy as sci\n",
    "from scipy import stats\n",
    "import time\n",
    "from datetime import datetime\n",
    "plt.style.use('ggplot')"
   ]
  },
  {
   "cell_type": "markdown",
   "metadata": {},
   "source": [
    "##### Date Block"
   ]
  },
  {
   "cell_type": "code",
   "execution_count": 2,
   "metadata": {},
   "outputs": [
    {
     "name": "stdout",
     "output_type": "stream",
     "text": [
      "Today is Nov 27, 2020\n"
     ]
    }
   ],
   "source": [
    "today = datetime.now()\n",
    "month = today.strftime(\"%b\")\n",
    "day   = today.strftime(\"%d\")\n",
    "year  = today.strftime(\"%Y\")\n",
    "print(\"Today is {0} {1}, {2}\".format(month, day, year))"
   ]
  },
  {
   "cell_type": "markdown",
   "metadata": {},
   "source": [
    "#### Pre-processing Data from Atomic Mass Evaluation\n",
    "Data used for model training is from the **Atomic Mass Evaluation** published in Chinese Physics C (Chinese Physics C Vol. 41, No. 3 (2017) 030002).  Access to this information can be found at this <a href=\"url\" target=\"https://www-nds.iaea.org/amdc/\">link.</a>\n",
    "\n",
    "- I am using the **mass16.txt** file to extract data from.\n",
    "    - This file contains a myriad of information for nuclei in the dataset.  These include:\n",
    "        - N-Z\n",
    "        - N (neutron number) **WANT THIS**\n",
    "        - Z (proton number) **WANT THIS**\n",
    "        - A (mass number, N + Z)\n",
    "        - EL (Element Symbol) **WANT THIS**\n",
    "        - O (decay channel)\n",
    "        - Mass Excess (keV) **WANT THIS**\n",
    "        - Binding Energy per Nucleon (BE/A, keV) **WANT THIS**\n",
    "        - $\\beta$-Decay Energy (keV) **WANT THIS**\n",
    "        - Atomic Mass (micro-AMUs = millionths of Atomic Mass Units) **WANT THIS**\n",
    "    - Many of these values have errors associated with their values, space separated.\n",
    "    - Some values such as ATOMIC MASS has a space between it's first digit and the rest of the numbers\n",
    "    - Some values have non-numeric values in their value that must be removed\n",
    "    - Some instances do not have values at all and must be handled as NULL or something\n",
    "    - Characters to remove:\n",
    "        - \"#\" is some kind of rounding error thing\n",
    "        - \"*\" is an empty value"
   ]
  },
  {
   "cell_type": "code",
   "execution_count": 3,
   "metadata": {},
   "outputs": [
    {
     "name": "stdout",
     "output_type": "stream",
     "text": [
      "3438\n"
     ]
    }
   ],
   "source": [
    "file = \"ame2016_nuclear_masses.txt\"\n",
    "num_lines = sum(1 for line in open(file))\n",
    "print(num_lines)"
   ]
  },
  {
   "cell_type": "code",
   "execution_count": 54,
   "metadata": {
    "scrolled": true
   },
   "outputs": [],
   "source": [
    "with open(file) as f:\n",
    "    content = f.readlines()\n",
    "f.close()\n",
    "content = [line.rstrip('\\n') for line in content]"
   ]
  },
  {
   "cell_type": "code",
   "execution_count": 55,
   "metadata": {},
   "outputs": [
    {
     "name": "stdout",
     "output_type": "stream",
     "text": [
      "3438\n"
     ]
    }
   ],
   "source": [
    "foo = [line.replace('#', \"\") if \"#\" in line else line for line in content]\n",
    "print(len(foo))"
   ]
  },
  {
   "cell_type": "code",
   "execution_count": 100,
   "metadata": {},
   "outputs": [
    {
     "data": {
      "text/plain": [
       "'1N-Z    N    Z   A  EL    O     MASS EXCESS       BINDING ENERGY/A        BETA-DECAY ENERGY         ATOMIC MASS'"
      ]
     },
     "execution_count": 100,
     "metadata": {},
     "output_type": "execute_result"
    }
   ],
   "source": [
    "foo[0]"
   ]
  },
  {
   "cell_type": "code",
   "execution_count": 63,
   "metadata": {},
   "outputs": [
    {
     "data": {
      "text/plain": [
       "['0',\n",
       " '1',\n",
       " '1',\n",
       " '0',\n",
       " '1',\n",
       " 'n',\n",
       " '8071.31713',\n",
       " '0.00046',\n",
       " '0.0',\n",
       " '0.0',\n",
       " 'B-',\n",
       " '782.347',\n",
       " '0.000',\n",
       " '1008664.91582',\n",
       " '0.00049']"
      ]
     },
     "execution_count": 63,
     "metadata": {},
     "output_type": "execute_result"
    }
   ],
   "source": [
    "tmp = re.sub(r\"(?<=[0-9]{1})\\s{1}(?=.+)\", \"\", foo[2])\n",
    "tmp.split()"
   ]
  },
  {
   "cell_type": "code",
   "execution_count": 72,
   "metadata": {},
   "outputs": [
    {
     "name": "stdout",
     "output_type": "stream",
     "text": [
      "3438\n"
     ]
    }
   ],
   "source": [
    "bar = [re.sub(r\"(?<=\\s[0-9]{1})\\s{1}(?=[0-9])\", \"\", x) for x in foo]\n",
    "bar = [re.sub(r\"(?<=\\s[0-9]{2})\\s{1}(?=[0-9])\", \"\", x) for x in bar]\n",
    "bar = [re.sub(r\"(?<=\\s[0-9]{3})\\s{1}(?=[0-9])\", \"\", x) for x in bar]\n",
    "print(len(bar))"
   ]
  },
  {
   "cell_type": "code",
   "execution_count": 128,
   "metadata": {},
   "outputs": [
    {
     "data": {
      "text/plain": [
       "(array([   0.,    4., 1413., 1731.,  288.,    0.]),\n",
       " array([12, 13, 14, 15, 16, 17, 18]),\n",
       " <BarContainer object of 6 artists>)"
      ]
     },
     "execution_count": 128,
     "metadata": {},
     "output_type": "execute_result"
    },
    {
     "data": {
      "image/png": "[encoded data removed]",
      "text/plain": [
       "<Figure size 432x288 with 1 Axes>"
      ]
     },
     "metadata": {},
     "output_type": "display_data"
    }
   ],
   "source": [
    "length_of_lines = [len(x.split()) for x in bar[2:]]\n",
    "plt.hist(length_of_lines, bins=np.arange(12,19,1))"
   ]
  },
  {
   "cell_type": "code",
   "execution_count": 83,
   "metadata": {},
   "outputs": [
    {
     "name": "stdout",
     "output_type": "stream",
     "text": [
      "  -1    0    1    1 H          7288.97061    0.00009      0.0      0.0   B-      *                1007825.03224    0.00009\n",
      "  -4    2    6    8 C         35064.268     18.243     3101.524    2.280 B-      *                8037643.042     19.584\n",
      "  -4    7   11   18 Na        25037.988     93.881     6202.217    5.216 B-      *               18026879.386    100.785\n",
      "   9   78   69  147 Tm       -35974.400      6.839     7948.817    0.047 B-      *              146961379.890      7.341\n"
     ]
    }
   ],
   "source": [
    "for i in range(len(bar)):\n",
    "    if len(bar[i].split()) == 13:\n",
    "        print(bar[i])"
   ]
  },
  {
   "cell_type": "code",
   "execution_count": 98,
   "metadata": {},
   "outputs": [
    {
     "name": "stdout",
     "output_type": "stream",
     "text": [
      "  55  164  109  273 Mt   -a  134713       424        7265       2    B-  -3643     445    273144620       455\n",
      "  -2   33   35   68 Br   -p  -38791       259        8239       4    B-      *               67958356       278\n",
      "  35  126   91  217 Pa   -a   17068.410     15.918     7664.580    0.073 B-  -5905      73    217018323.692     17.089\n",
      "  -2   45   47   92 Ag    x  -37130       500        8075       5    B-      *               91960139       537\n",
      "  19   67   48  115 Cd       -88084.479      0.651     8510.724    0.006 B-   1451.867    0.651 114905437.417      0.699\n",
      "  47  154  107  261 Bh   -a  113133       209        7317       1    B-      *              261121454       224\n",
      "  36  120   84  204 Po   -a  -18341.244     11.013     7839.083    0.054 B-  -6465.811   24.860 203980309.863     11.822\n",
      "  26  102   76  178 Os       -43544.270     13.632     7981.912    0.077 B-  -7292.386   24.006 177953253.300     14.634\n",
      "  38  117   79  196 Au       -31138.706      2.962     7914.855    0.015 B-    687.235    3.118 195966571.221      3.179\n",
      "  10   68   58  126 Ce    x  -70820.558     27.945     8273.257    0.222 B- -10497     198    125923971.000     30.000\n",
      "  45  130   85  215 At   -a   -1255.756      6.799     7767.858    0.032 B-    -87.195   10.168 214998651.890      7.299\n",
      "   3   29   26   55 Fe       -57481.300      0.342     8746.595    0.006 B-  -3451.417    0.324  54938291.283      0.367\n",
      "  23   83   60  143 Nd       -84002.234      1.367     8330.488    0.010 B-  -1041.583    2.682 142909819.887      1.467\n",
      "   9   75   66  141 Dy    x  -45382       298        8027       2    B- -11018     499    140951280       320\n",
      "  19   48   29   77 Cu    x  -48624       149        8408       2    B-  10165     149     76947800       160\n",
      "  49  153  104  257 Rf   -a   95866.427     10.817     7381.704    0.042 B-  -4340     203    257102916.848     11.612\n",
      "  20   63   43  106 Tc    +  -79776.223     12.250     8506.556    0.116 B-   6547.000   11.000 105914356.697     13.150\n",
      "  53  143   90  233 Th        38731.715      1.425     7602.893    0.006 B-   1242.243    1.122 233041580.208      1.529\n",
      "  14   58   44  102 Ru       -89106.437      0.418     8607.427    0.004 B-  -2323.119    6.396 101904340.300      0.448\n",
      "  16   54   38   92 Sr       -82867.361      3.423     8648.906    0.037 B-   1949.132    9.384  91911038.224      3.675\n",
      "   3   53   50  103 Sn    -  -66972.591     70.659     8341.757    0.686 B- -10794     306    102928101.962     75.855\n",
      "   5   49   44   93 Ru       -77216.713      2.065     8531.462    0.022 B-  -8204.913    3.343  92917104.444      2.216\n",
      "  15   78   63  141 Eu       -69925.629     12.639     8217.684    0.090 B-  -6701.405   23.456 140924931.745     13.568\n",
      "  -4   22   26   48 Fe    x  -18000       400        8023       8    B- -19500     640     47980676       429\n",
      "  47  134   87  221 Fr        13277.290      4.886     7703.256    0.022 B-    313.479    6.386 221014253.757      5.245\n",
      "  37   98   61  159 Pm       -56554.280     10.039     8126.859    0.063 B-   5653.495   11.644 158939286.479     10.777\n",
      "  44  118   74  192 W     x  -29649       196        7924       1    B-   1939     208    191968170       210\n",
      "  18   69   51  120 Sb    -  -88417.761      7.196     8475.635    0.060 B-    950.226    7.811 119905079.624      7.725\n",
      "  38  127   89  216 Ac   -a    8144.395     10.840     7711.256    0.050 B-  -2153.937   16.201 216008743.367     11.637\n",
      "   6   61   55  116 Cs   ea  -62043       100        8235       1    B-  -7463     224    115933395       108\n",
      "  26   87   61  148 Pm   +p  -76865.716      5.723     8268.226    0.039 B-   2470.548    5.642 147917481.255      6.143\n",
      "  52  149   97  246 Bk    -   63966.967     60.019     7502.803    0.244 B-   -123.325   60.020 246068671.367     64.433\n",
      "  53  142   89  231 Ac    x   35762.849     13.041     7615.076    0.056 B-   1946.959   13.098 231038393.000     14.000\n",
      "   2   15   13   28 Al   -n  -16850.645      0.077     8309.894    0.003 B-   4642.150    0.077  27981910.087      0.083\n",
      "  33   87   54  141 Xe    x  -68197.299      2.888     8255.364    0.020 B-   6280.224    9.638 140926787.184      3.100\n",
      "  33  125   92  217 U    -a   22973        71        7634       0    B-      *              217024663        77\n",
      "  51  147   96  243 Cm   -a   57181.998      1.496     7526.925    0.006 B-  -1507.695    4.506 243061387.403      1.606\n",
      "  28  102   74  176 W     x  -50641.603     27.945     8030.112    0.159 B-  -5578.718   39.520 175945634.000     30.000\n",
      "  10   36   26   62 Fe    x  -58878.048      2.794     8692.882    0.045 B-   2546.235   18.784  61936791.812      3.000\n",
      "  11   91   80  171 Hg   -a    3480       303        7685       2    B-      *              171003736       325\n",
      "   1   39   38   77 Sr    x  -57803.436      7.918     8435.918    0.103 B- -11365     203     76937945.455      8.500\n"
     ]
    }
   ],
   "source": [
    "yarg = True\n",
    "while yarg == True:\n",
    "    tmp = np.random.randint(low = 0, high=len(bar))\n",
    "    if len(bar[tmp].split()) == 15 or len(bar[tmp].split()) == 14:\n",
    "        print(bar[tmp])\n",
    "    else:\n",
    "        yarg = False"
   ]
  },
  {
   "cell_type": "code",
   "execution_count": 176,
   "metadata": {},
   "outputs": [
    {
     "data": {
      "text/plain": [
       "'Ca'"
      ]
     },
     "execution_count": 176,
     "metadata": {},
     "output_type": "execute_result"
    }
   ],
   "source": [
    "syms = re.findall(r\"(?<=\\s{1})([A-Z][a-z]?|n)(?=\\s)\", bar[409])[0]\n",
    "reg = re.compile(\"([A-Z][a-z]?)(?=\\s)\")\n",
    "el_sym = [re.findall(r\"(?<=\\s{1})([A-Z][a-z]?|n)(?=\\s)\", bar[i])[0] for i in range(2,len(bar))]\n",
    "syms"
   ]
  },
  {
   "cell_type": "code",
   "execution_count": 132,
   "metadata": {
    "scrolled": true
   },
   "outputs": [],
   "source": [
    "out = [bar[i].split() for i in range(2,len(bar))]\n",
    "out_tmp = [out[i][1:5] for i in range(len(out))]"
   ]
  },
  {
   "cell_type": "code",
   "execution_count": 149,
   "metadata": {},
   "outputs": [],
   "source": [
    "idxs = [i for i, item in enumerate(out[6]) if re.search(r\"([A-Z][a-z]?|n)\", item)]"
   ]
  },
  {
   "cell_type": "code",
   "execution_count": 153,
   "metadata": {},
   "outputs": [],
   "source": [
    "tes = [[i for i, item in enumerate(out[x]) if re.search(r\"([A-Z][a-z]?|n)\", item)] for x in range(len(out))]"
   ]
  },
  {
   "cell_type": "code",
   "execution_count": 159,
   "metadata": {},
   "outputs": [
    {
     "data": {
      "text/plain": [
       "[5, 6, 11]"
      ]
     },
     "execution_count": 159,
     "metadata": {},
     "output_type": "execute_result"
    }
   ],
   "source": [
    "tes[6]"
   ]
  },
  {
   "cell_type": "code",
   "execution_count": 180,
   "metadata": {},
   "outputs": [
    {
     "data": {
      "text/plain": [
       "['-1',\n",
       " '0',\n",
       " '1',\n",
       " '1',\n",
       " 'H',\n",
       " '7288.97061',\n",
       " '0.00009',\n",
       " '0.0',\n",
       " '0.0',\n",
       " 'B-',\n",
       " '*',\n",
       " '1007825.03224',\n",
       " '0.00009']"
      ]
     },
     "execution_count": 180,
     "metadata": {},
     "output_type": "execute_result"
    }
   ],
   "source": [
    "out[1]"
   ]
  },
  {
   "cell_type": "code",
   "execution_count": 188,
   "metadata": {},
   "outputs": [],
   "source": [
    "A = [int(out[i][tes[i][0] - 1]) for i in range(len(tes))]\n",
    "Z = [int(out[i][tes[i][0] - 2]) for i in range(len(tes))]\n",
    "N = [int(out[i][tes[i][0] - 3]) for i in range(len(tes))]\n",
    "N_Z = [(N[i] - Z[i]) for i in range(len(Z))]"
   ]
  },
  {
   "cell_type": "code",
   "execution_count": 192,
   "metadata": {},
   "outputs": [],
   "source": [
    "test_df = pd.DataFrame(list(zip(el_sym, Z, N, A, N_Z)))\n",
    "test_df.columns = [\"Element_Symbol\", \"Z\", \"A\", \"N\", \"N-Z\"]"
   ]
  },
  {
   "cell_type": "code",
   "execution_count": 191,
   "metadata": {},
   "outputs": [
    {
     "data": {
      "text/html": [
       "<div>\n",
       "<style scoped>\n",
       "    .dataframe tbody tr th:only-of-type {\n",
       "        vertical-align: middle;\n",
       "    }\n",
       "\n",
       "    .dataframe tbody tr th {\n",
       "        vertical-align: top;\n",
       "    }\n",
       "\n",
       "    .dataframe thead th {\n",
       "        text-align: right;\n",
       "    }\n",
       "</style>\n",
       "<table border=\"1\" class=\"dataframe\">\n",
       "  <thead>\n",
       "    <tr style=\"text-align: right;\">\n",
       "      <th></th>\n",
       "      <th>Element_Symbol</th>\n",
       "      <th>Z</th>\n",
       "      <th>A</th>\n",
       "      <th>N</th>\n",
       "      <th>N-Z</th>\n",
       "    </tr>\n",
       "  </thead>\n",
       "  <tbody>\n",
       "    <tr>\n",
       "      <th>980</th>\n",
       "      <td>Ag</td>\n",
       "      <td>47</td>\n",
       "      <td>45</td>\n",
       "      <td>92</td>\n",
       "      <td>-2</td>\n",
       "    </tr>\n",
       "    <tr>\n",
       "      <th>994</th>\n",
       "      <td>Ag</td>\n",
       "      <td>47</td>\n",
       "      <td>46</td>\n",
       "      <td>93</td>\n",
       "      <td>-1</td>\n",
       "    </tr>\n",
       "    <tr>\n",
       "      <th>1008</th>\n",
       "      <td>Ag</td>\n",
       "      <td>47</td>\n",
       "      <td>47</td>\n",
       "      <td>94</td>\n",
       "      <td>0</td>\n",
       "    </tr>\n",
       "    <tr>\n",
       "      <th>1023</th>\n",
       "      <td>Ag</td>\n",
       "      <td>47</td>\n",
       "      <td>48</td>\n",
       "      <td>95</td>\n",
       "      <td>1</td>\n",
       "    </tr>\n",
       "    <tr>\n",
       "      <th>1037</th>\n",
       "      <td>Ag</td>\n",
       "      <td>47</td>\n",
       "      <td>49</td>\n",
       "      <td>96</td>\n",
       "      <td>2</td>\n",
       "    </tr>\n",
       "    <tr>\n",
       "      <th>1052</th>\n",
       "      <td>Ag</td>\n",
       "      <td>47</td>\n",
       "      <td>50</td>\n",
       "      <td>97</td>\n",
       "      <td>3</td>\n",
       "    </tr>\n",
       "    <tr>\n",
       "      <th>1067</th>\n",
       "      <td>Ag</td>\n",
       "      <td>47</td>\n",
       "      <td>51</td>\n",
       "      <td>98</td>\n",
       "      <td>4</td>\n",
       "    </tr>\n",
       "    <tr>\n",
       "      <th>1081</th>\n",
       "      <td>Ag</td>\n",
       "      <td>47</td>\n",
       "      <td>52</td>\n",
       "      <td>99</td>\n",
       "      <td>5</td>\n",
       "    </tr>\n",
       "    <tr>\n",
       "      <th>1096</th>\n",
       "      <td>Ag</td>\n",
       "      <td>47</td>\n",
       "      <td>53</td>\n",
       "      <td>100</td>\n",
       "      <td>6</td>\n",
       "    </tr>\n",
       "    <tr>\n",
       "      <th>1111</th>\n",
       "      <td>Ag</td>\n",
       "      <td>47</td>\n",
       "      <td>54</td>\n",
       "      <td>101</td>\n",
       "      <td>7</td>\n",
       "    </tr>\n",
       "    <tr>\n",
       "      <th>1125</th>\n",
       "      <td>Ag</td>\n",
       "      <td>47</td>\n",
       "      <td>55</td>\n",
       "      <td>102</td>\n",
       "      <td>8</td>\n",
       "    </tr>\n",
       "    <tr>\n",
       "      <th>1139</th>\n",
       "      <td>Ag</td>\n",
       "      <td>47</td>\n",
       "      <td>56</td>\n",
       "      <td>103</td>\n",
       "      <td>9</td>\n",
       "    </tr>\n",
       "    <tr>\n",
       "      <th>1153</th>\n",
       "      <td>Ag</td>\n",
       "      <td>47</td>\n",
       "      <td>57</td>\n",
       "      <td>104</td>\n",
       "      <td>10</td>\n",
       "    </tr>\n",
       "    <tr>\n",
       "      <th>1167</th>\n",
       "      <td>Ag</td>\n",
       "      <td>47</td>\n",
       "      <td>58</td>\n",
       "      <td>105</td>\n",
       "      <td>11</td>\n",
       "    </tr>\n",
       "    <tr>\n",
       "      <th>1182</th>\n",
       "      <td>Ag</td>\n",
       "      <td>47</td>\n",
       "      <td>59</td>\n",
       "      <td>106</td>\n",
       "      <td>12</td>\n",
       "    </tr>\n",
       "    <tr>\n",
       "      <th>1197</th>\n",
       "      <td>Ag</td>\n",
       "      <td>47</td>\n",
       "      <td>60</td>\n",
       "      <td>107</td>\n",
       "      <td>13</td>\n",
       "    </tr>\n",
       "    <tr>\n",
       "      <th>1212</th>\n",
       "      <td>Ag</td>\n",
       "      <td>47</td>\n",
       "      <td>61</td>\n",
       "      <td>108</td>\n",
       "      <td>14</td>\n",
       "    </tr>\n",
       "    <tr>\n",
       "      <th>1227</th>\n",
       "      <td>Ag</td>\n",
       "      <td>47</td>\n",
       "      <td>62</td>\n",
       "      <td>109</td>\n",
       "      <td>15</td>\n",
       "    </tr>\n",
       "    <tr>\n",
       "      <th>1242</th>\n",
       "      <td>Ag</td>\n",
       "      <td>47</td>\n",
       "      <td>63</td>\n",
       "      <td>110</td>\n",
       "      <td>16</td>\n",
       "    </tr>\n",
       "    <tr>\n",
       "      <th>1257</th>\n",
       "      <td>Ag</td>\n",
       "      <td>47</td>\n",
       "      <td>64</td>\n",
       "      <td>111</td>\n",
       "      <td>17</td>\n",
       "    </tr>\n",
       "    <tr>\n",
       "      <th>1273</th>\n",
       "      <td>Ag</td>\n",
       "      <td>47</td>\n",
       "      <td>65</td>\n",
       "      <td>112</td>\n",
       "      <td>18</td>\n",
       "    </tr>\n",
       "    <tr>\n",
       "      <th>1288</th>\n",
       "      <td>Ag</td>\n",
       "      <td>47</td>\n",
       "      <td>66</td>\n",
       "      <td>113</td>\n",
       "      <td>19</td>\n",
       "    </tr>\n",
       "    <tr>\n",
       "      <th>1304</th>\n",
       "      <td>Ag</td>\n",
       "      <td>47</td>\n",
       "      <td>67</td>\n",
       "      <td>114</td>\n",
       "      <td>20</td>\n",
       "    </tr>\n",
       "    <tr>\n",
       "      <th>1320</th>\n",
       "      <td>Ag</td>\n",
       "      <td>47</td>\n",
       "      <td>68</td>\n",
       "      <td>115</td>\n",
       "      <td>21</td>\n",
       "    </tr>\n",
       "    <tr>\n",
       "      <th>1335</th>\n",
       "      <td>Ag</td>\n",
       "      <td>47</td>\n",
       "      <td>69</td>\n",
       "      <td>116</td>\n",
       "      <td>22</td>\n",
       "    </tr>\n",
       "    <tr>\n",
       "      <th>1351</th>\n",
       "      <td>Ag</td>\n",
       "      <td>47</td>\n",
       "      <td>70</td>\n",
       "      <td>117</td>\n",
       "      <td>23</td>\n",
       "    </tr>\n",
       "    <tr>\n",
       "      <th>1367</th>\n",
       "      <td>Ag</td>\n",
       "      <td>47</td>\n",
       "      <td>71</td>\n",
       "      <td>118</td>\n",
       "      <td>24</td>\n",
       "    </tr>\n",
       "    <tr>\n",
       "      <th>1382</th>\n",
       "      <td>Ag</td>\n",
       "      <td>47</td>\n",
       "      <td>72</td>\n",
       "      <td>119</td>\n",
       "      <td>25</td>\n",
       "    </tr>\n",
       "    <tr>\n",
       "      <th>1398</th>\n",
       "      <td>Ag</td>\n",
       "      <td>47</td>\n",
       "      <td>73</td>\n",
       "      <td>120</td>\n",
       "      <td>26</td>\n",
       "    </tr>\n",
       "    <tr>\n",
       "      <th>1414</th>\n",
       "      <td>Ag</td>\n",
       "      <td>47</td>\n",
       "      <td>74</td>\n",
       "      <td>121</td>\n",
       "      <td>27</td>\n",
       "    </tr>\n",
       "    <tr>\n",
       "      <th>1430</th>\n",
       "      <td>Ag</td>\n",
       "      <td>47</td>\n",
       "      <td>75</td>\n",
       "      <td>122</td>\n",
       "      <td>28</td>\n",
       "    </tr>\n",
       "    <tr>\n",
       "      <th>1446</th>\n",
       "      <td>Ag</td>\n",
       "      <td>47</td>\n",
       "      <td>76</td>\n",
       "      <td>123</td>\n",
       "      <td>29</td>\n",
       "    </tr>\n",
       "    <tr>\n",
       "      <th>1462</th>\n",
       "      <td>Ag</td>\n",
       "      <td>47</td>\n",
       "      <td>77</td>\n",
       "      <td>124</td>\n",
       "      <td>30</td>\n",
       "    </tr>\n",
       "    <tr>\n",
       "      <th>1478</th>\n",
       "      <td>Ag</td>\n",
       "      <td>47</td>\n",
       "      <td>78</td>\n",
       "      <td>125</td>\n",
       "      <td>31</td>\n",
       "    </tr>\n",
       "    <tr>\n",
       "      <th>1494</th>\n",
       "      <td>Ag</td>\n",
       "      <td>47</td>\n",
       "      <td>79</td>\n",
       "      <td>126</td>\n",
       "      <td>32</td>\n",
       "    </tr>\n",
       "    <tr>\n",
       "      <th>1511</th>\n",
       "      <td>Ag</td>\n",
       "      <td>47</td>\n",
       "      <td>80</td>\n",
       "      <td>127</td>\n",
       "      <td>33</td>\n",
       "    </tr>\n",
       "    <tr>\n",
       "      <th>1527</th>\n",
       "      <td>Ag</td>\n",
       "      <td>47</td>\n",
       "      <td>81</td>\n",
       "      <td>128</td>\n",
       "      <td>34</td>\n",
       "    </tr>\n",
       "    <tr>\n",
       "      <th>1544</th>\n",
       "      <td>Ag</td>\n",
       "      <td>47</td>\n",
       "      <td>82</td>\n",
       "      <td>129</td>\n",
       "      <td>35</td>\n",
       "    </tr>\n",
       "    <tr>\n",
       "      <th>1560</th>\n",
       "      <td>Ag</td>\n",
       "      <td>47</td>\n",
       "      <td>83</td>\n",
       "      <td>130</td>\n",
       "      <td>36</td>\n",
       "    </tr>\n",
       "    <tr>\n",
       "      <th>1577</th>\n",
       "      <td>Ag</td>\n",
       "      <td>47</td>\n",
       "      <td>84</td>\n",
       "      <td>131</td>\n",
       "      <td>37</td>\n",
       "    </tr>\n",
       "    <tr>\n",
       "      <th>1594</th>\n",
       "      <td>Ag</td>\n",
       "      <td>47</td>\n",
       "      <td>85</td>\n",
       "      <td>132</td>\n",
       "      <td>38</td>\n",
       "    </tr>\n",
       "  </tbody>\n",
       "</table>\n",
       "</div>"
      ],
      "text/plain": [
       "     Element_Symbol   Z   A    N  N-Z\n",
       "980              Ag  47  45   92   -2\n",
       "994              Ag  47  46   93   -1\n",
       "1008             Ag  47  47   94    0\n",
       "1023             Ag  47  48   95    1\n",
       "1037             Ag  47  49   96    2\n",
       "1052             Ag  47  50   97    3\n",
       "1067             Ag  47  51   98    4\n",
       "1081             Ag  47  52   99    5\n",
       "1096             Ag  47  53  100    6\n",
       "1111             Ag  47  54  101    7\n",
       "1125             Ag  47  55  102    8\n",
       "1139             Ag  47  56  103    9\n",
       "1153             Ag  47  57  104   10\n",
       "1167             Ag  47  58  105   11\n",
       "1182             Ag  47  59  106   12\n",
       "1197             Ag  47  60  107   13\n",
       "1212             Ag  47  61  108   14\n",
       "1227             Ag  47  62  109   15\n",
       "1242             Ag  47  63  110   16\n",
       "1257             Ag  47  64  111   17\n",
       "1273             Ag  47  65  112   18\n",
       "1288             Ag  47  66  113   19\n",
       "1304             Ag  47  67  114   20\n",
       "1320             Ag  47  68  115   21\n",
       "1335             Ag  47  69  116   22\n",
       "1351             Ag  47  70  117   23\n",
       "1367             Ag  47  71  118   24\n",
       "1382             Ag  47  72  119   25\n",
       "1398             Ag  47  73  120   26\n",
       "1414             Ag  47  74  121   27\n",
       "1430             Ag  47  75  122   28\n",
       "1446             Ag  47  76  123   29\n",
       "1462             Ag  47  77  124   30\n",
       "1478             Ag  47  78  125   31\n",
       "1494             Ag  47  79  126   32\n",
       "1511             Ag  47  80  127   33\n",
       "1527             Ag  47  81  128   34\n",
       "1544             Ag  47  82  129   35\n",
       "1560             Ag  47  83  130   36\n",
       "1577             Ag  47  84  131   37\n",
       "1594             Ag  47  85  132   38"
      ]
     },
     "execution_count": 191,
     "metadata": {},
     "output_type": "execute_result"
    }
   ],
   "source": [
    "test_df.query(\"Element_Symbol == 'Ag'\")"
   ]
  }
 ],
 "metadata": {
  "kernelspec": {
   "display_name": "Python 3",
   "language": "python",
   "name": "python3"
  },
  "language_info": {
   "codemirror_mode": {
    "name": "ipython",
    "version": 3
   },
   "file_extension": ".py",
   "mimetype": "text/x-python",
   "name": "python",
   "nbconvert_exporter": "python",
   "pygments_lexer": "ipython3",
   "version": "3.8.5"
  }
 },
 "nbformat": 4,
 "nbformat_minor": 4
}
