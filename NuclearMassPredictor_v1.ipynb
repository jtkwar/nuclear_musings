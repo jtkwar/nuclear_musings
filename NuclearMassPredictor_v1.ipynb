{
 "cells": [
  {
   "cell_type": "markdown",
   "metadata": {},
   "source": [
    "### Nuclear Mass Predictor with Support Vector Machines\n",
    "##### November 2020\n",
    "##### Jeffrey T. Kwarsick, Ph.D.\n",
    "### Introduction\n",
    "### References\n",
    "1. <a href=\"url\" target=\"https://www-nds.iaea.org/amdc/\">Atomic Mass Data Center</a>\n",
    "2. <a href=\"url\" target=\"https://arxiv.org/abs/2004.14196\">Nuclear Binding Energy Predictions based on Machine Learning</a>\n",
    "3. <a href=\"url\" target=\"https://arxiv.org/abs/1907.09764\">Trees and Islands -- Machine learning approach to nuclear physics</a>\n",
    "4. <a href=\"url\" target=\"https://arxiv.org/abs/1803.03215\">Deep Learning: A Tool for Computational Nuclear Physics</a>"
   ]
  },
  {
   "cell_type": "code",
   "execution_count": 31,
   "metadata": {},
   "outputs": [],
   "source": [
    "import numpy as np\n",
    "import pandas as pd\n",
    "import math\n",
    "import re\n",
    "from sklearn.model_selection import train_test_split\n",
    "from sklearn.preprocessing import MaxAbsScaler\n",
    "from sklearn.linear_model import LinearRegression\n",
    "from sklearn.metrics import mean_squared_error\n",
    "from sklearn.metrics import mean_absolute_error\n",
    "from sklearn.metrics import mean_squared_error\n",
    "from sklearn.svm import SVR\n",
    "from sklearn.ensemble import RandomForestRegressor\n",
    "from mpl_toolkits import mplot3d\n",
    "import matplotlib.pyplot as plt\n",
    "import matplotlib.gridspec as gridspec\n",
    "from matplotlib.patches import Ellipse\n",
    "import matplotlib.transforms as transforms\n",
    "import scipy as sci\n",
    "from scipy import stats\n",
    "import time\n",
    "from datetime import datetime\n",
    "plt.style.use('ggplot')"
   ]
  },
  {
   "cell_type": "markdown",
   "metadata": {},
   "source": [
    "##### Date Block"
   ]
  },
  {
   "cell_type": "code",
   "execution_count": 2,
   "metadata": {},
   "outputs": [
    {
     "name": "stdout",
     "output_type": "stream",
     "text": [
      "Today is Nov 27, 2020\n"
     ]
    }
   ],
   "source": [
    "today = datetime.now()\n",
    "month = today.strftime(\"%b\")\n",
    "day   = today.strftime(\"%d\")\n",
    "year  = today.strftime(\"%Y\")\n",
    "print(\"Today is {0} {1}, {2}\".format(month, day, year))"
   ]
  },
  {
   "cell_type": "markdown",
   "metadata": {},
   "source": [
    "#### Pre-processing Data from Atomic Mass Evaluation\n",
    "Data used for model training is from the **Atomic Mass Evaluation** published in Chinese Physics C (Chinese Physics C Vol. 41, No. 3 (2017) 030002).  Access to this information can be found at this <a href=\"url\" target=\"https://www-nds.iaea.org/amdc/\">link.</a>\n",
    "\n",
    "- I am using the **mass16.txt** file to extract data from.\n",
    "    - This file contains a myriad of information for nuclei in the dataset.  These include:\n",
    "        - N-Z\n",
    "        - N (neutron number) **WANT THIS**\n",
    "        - Z (proton number) **WANT THIS**\n",
    "        - A (mass number, N + Z)\n",
    "        - EL (Element Symbol) **WANT THIS**\n",
    "        - O (decay channel)\n",
    "        - Mass Excess (keV) **WANT THIS**\n",
    "        - Binding Energy per Nucleon (BE/A, keV) **WANT THIS**\n",
    "        - $\\beta$-Decay Energy (keV) **WANT THIS**\n",
    "        - Atomic Mass (micro-AMUs = millionths of Atomic Mass Units) **WANT THIS**\n",
    "    - Many of these values have errors associated with their values, space separated.\n",
    "    - Some values such as ATOMIC MASS has a space between it's first digit and the rest of the numbers\n",
    "    - Some values have non-numeric values in their value that must be removed\n",
    "    - Some instances do not have values at all and must be handled as NULL or something\n",
    "    - Characters to remove:\n",
    "        - \"#\" is some kind of rounding error thing\n",
    "        - \"*\" is an empty value"
   ]
  },
  {
   "cell_type": "code",
   "execution_count": 3,
   "metadata": {},
   "outputs": [
    {
     "name": "stdout",
     "output_type": "stream",
     "text": [
      "3438\n"
     ]
    }
   ],
   "source": [
    "file = \"ame2016_nuclear_masses.txt\"\n",
    "num_lines = sum(1 for line in open(file))\n",
    "print(num_lines)"
   ]
  },
  {
   "cell_type": "code",
   "execution_count": 54,
   "metadata": {
    "scrolled": true
   },
   "outputs": [],
   "source": [
    "with open(file) as f:\n",
    "    content = f.readlines()\n",
    "f.close()\n",
    "content = [line.rstrip('\\n') for line in content]"
   ]
  },
  {
   "cell_type": "code",
   "execution_count": 55,
   "metadata": {},
   "outputs": [
    {
     "name": "stdout",
     "output_type": "stream",
     "text": [
      "3438\n"
     ]
    }
   ],
   "source": [
    "foo = [line.replace('#', \"\") if \"#\" in line else line for line in content]\n",
    "print(len(foo))"
   ]
  },
  {
   "cell_type": "code",
   "execution_count": 100,
   "metadata": {},
   "outputs": [
    {
     "data": {
      "text/plain": [
       "'1N-Z    N    Z   A  EL    O     MASS EXCESS       BINDING ENERGY/A        BETA-DECAY ENERGY         ATOMIC MASS'"
      ]
     },
     "execution_count": 100,
     "metadata": {},
     "output_type": "execute_result"
    }
   ],
   "source": [
    "foo[0]"
   ]
  },
  {
   "cell_type": "code",
   "execution_count": 63,
   "metadata": {},
   "outputs": [
    {
     "data": {
      "text/plain": [
       "['0',\n",
       " '1',\n",
       " '1',\n",
       " '0',\n",
       " '1',\n",
       " 'n',\n",
       " '8071.31713',\n",
       " '0.00046',\n",
       " '0.0',\n",
       " '0.0',\n",
       " 'B-',\n",
       " '782.347',\n",
       " '0.000',\n",
       " '1008664.91582',\n",
       " '0.00049']"
      ]
     },
     "execution_count": 63,
     "metadata": {},
     "output_type": "execute_result"
    }
   ],
   "source": [
    "tmp = re.sub(r\"(?<=[0-9]{1})\\s{1}(?=.+)\", \"\", foo[2])\n",
    "tmp.split()"
   ]
  },
  {
   "cell_type": "code",
   "execution_count": 72,
   "metadata": {},
   "outputs": [
    {
     "name": "stdout",
     "output_type": "stream",
     "text": [
      "3438\n"
     ]
    }
   ],
   "source": [
    "bar = [re.sub(r\"(?<=\\s[0-9]{1})\\s{1}(?=[0-9])\", \"\", x) for x in foo]\n",
    "bar = [re.sub(r\"(?<=\\s[0-9]{2})\\s{1}(?=[0-9])\", \"\", x) for x in bar]\n",
    "bar = [re.sub(r\"(?<=\\s[0-9]{3})\\s{1}(?=[0-9])\", \"\", x) for x in bar]\n",
    "print(len(bar))"
   ]
  },
  {
   "cell_type": "markdown",
   "metadata": {},
   "source": [
    "#### Visualizing the Data Structure\n",
    "- Upon splitting the data in each line using the `.split()` function we can see that the there is a distribution in the length of the resulting lists generated from each line.  This will require some additional processing in order to have all the data fit nicely into a single dataframe\n",
    "- After making this observation, I sought out look at data of variable length to see what structure I can take advantage of in order to correctly extract the data\n",
    "    - Printed all instance of len(line) = 13, since there were only 4 instances\n",
    "    - Created function `sample_data()` to randomly sample and look at structure of data in each line for longer lines"
   ]
  },
  {
   "cell_type": "code",
   "execution_count": 128,
   "metadata": {},
   "outputs": [
    {
     "data": {
      "text/plain": [
       "(array([   0.,    4., 1413., 1731.,  288.,    0.]),\n",
       " array([12, 13, 14, 15, 16, 17, 18]),\n",
       " <BarContainer object of 6 artists>)"
      ]
     },
     "execution_count": 128,
     "metadata": {},
     "output_type": "execute_result"
    },
    {
     "data": {
      "image/png": "[encoded data removed]",
      "text/plain": [
       "<Figure size 432x288 with 1 Axes>"
      ]
     },
     "metadata": {},
     "output_type": "display_data"
    }
   ],
   "source": [
    "length_of_lines = [len(x.split()) for x in bar[2:]]\n",
    "plt.hist(length_of_lines, bins=np.arange(12,19,1))"
   ]
  },
  {
   "cell_type": "code",
   "execution_count": 83,
   "metadata": {},
   "outputs": [
    {
     "name": "stdout",
     "output_type": "stream",
     "text": [
      "  -1    0    1    1 H          7288.97061    0.00009      0.0      0.0   B-      *                1007825.03224    0.00009\n",
      "  -4    2    6    8 C         35064.268     18.243     3101.524    2.280 B-      *                8037643.042     19.584\n",
      "  -4    7   11   18 Na        25037.988     93.881     6202.217    5.216 B-      *               18026879.386    100.785\n",
      "   9   78   69  147 Tm       -35974.400      6.839     7948.817    0.047 B-      *              146961379.890      7.341\n"
     ]
    }
   ],
   "source": [
    "for i in range(len(bar)):\n",
    "    if len(bar[i].split()) == 13:\n",
    "        print(bar[i])"
   ]
  },
  {
   "cell_type": "code",
   "execution_count": 276,
   "metadata": {},
   "outputs": [],
   "source": [
    "def sample_data(list_of_lines, line_length):\n",
    "    \"\"\"\n",
    "    Given length of line.split(), return lines sampled from the data with given length\n",
    "    \n",
    "    Input:\n",
    "        list_of_lines: (list) of strings \n",
    "        line_length: (int) of list length\n",
    "        \n",
    "    Output:\n",
    "        lines: n lines from dataset of given length when string is split()\n",
    "    \"\"\"\n",
    "    yarg = True\n",
    "    while yarg == True:\n",
    "        tmp = np.random.randint(low = 0, high=len(list_of_lines))\n",
    "        if len(list_of_lines[tmp].split()) == line_length:\n",
    "            print(list_of_lines[tmp])\n",
    "        else:\n",
    "            yarg = False"
   ]
  },
  {
   "cell_type": "code",
   "execution_count": 273,
   "metadata": {},
   "outputs": [
    {
     "name": "stdout",
     "output_type": "stream",
     "text": [
      "  42  120   78  198 Pt       -29903.999      2.100     7914.150    0.011 B-   -323.219    2.059 197967896.734      2.254\n",
      "  20   66   46  112 Pd       -86321.562      6.544     8520.724    0.058 B-    262.156    6.978 111907329.986      7.025\n",
      "  36  111   75  186 Re       -41927.086      0.826     7981.269    0.004 B-   1072.857    0.837 185954989.419      0.886\n"
     ]
    }
   ],
   "source": [
    "sample_data(bar,14)"
   ]
  },
  {
   "cell_type": "code",
   "execution_count": 275,
   "metadata": {},
   "outputs": [
    {
     "name": "stdout",
     "output_type": "stream",
     "text": [
      "  55  161  106  267 Sg   -a  115806       257        7327       1    B-  -2960     367    267124322       276\n"
     ]
    }
   ],
   "source": [
    "sample_data(bar, 15)"
   ]
  },
  {
   "cell_type": "code",
   "execution_count": 274,
   "metadata": {},
   "outputs": [
    {
     "name": "stdout",
     "output_type": "stream",
     "text": [
      "0 42  103   61  164 Pm    x  -38870       400        8017       2    B-   9232     499    163958271       429\n"
     ]
    }
   ],
   "source": [
    "sample_data(bar, 16)"
   ]
  },
  {
   "cell_type": "markdown",
   "metadata": {},
   "source": [
    "#### Using Regular Expressions to Extract Element Symbol\n",
    "I love the mini-game of using regular expressions in order to extract data from strings in the dataset.  After playing around on <a href=\"url\" target=\"https://regex101.com/\">regex101.com</a> with some sample data, the below expression can be used to extract the element symbol from each line."
   ]
  },
  {
   "cell_type": "code",
   "execution_count": 277,
   "metadata": {},
   "outputs": [
    {
     "data": {
      "text/plain": [
       "'Ca'"
      ]
     },
     "execution_count": 277,
     "metadata": {},
     "output_type": "execute_result"
    }
   ],
   "source": [
    "sym = re.findall(r\"(?<=\\s{1})([A-Z][a-z]?|n)(?=\\s)\", bar[409])[0]\n",
    "sym"
   ]
  },
  {
   "cell_type": "code",
   "execution_count": 278,
   "metadata": {},
   "outputs": [],
   "source": [
    "reg = re.compile(\"([A-Z][a-z]?)(?=\\s)\")\n",
    "el_sym = [re.findall(r\"(?<=\\s{1})([A-Z][a-z]?|n)(?=\\s)\", bar[i])[0] for i in range(2,len(bar))]"
   ]
  },
  {
   "cell_type": "markdown",
   "metadata": {},
   "source": [
    "#### Remove first 2 lines from dataset since they contain no data, only headers for each of the columns"
   ]
  },
  {
   "cell_type": "code",
   "execution_count": 198,
   "metadata": {
    "scrolled": true
   },
   "outputs": [],
   "source": [
    "out = [bar[i].split() for i in range(2,len(bar))]"
   ]
  },
  {
   "cell_type": "markdown",
   "metadata": {},
   "source": [
    "Since the data is not consistent from line to line, I need a strategy for extracting the data that I want from each line.  As it turns out, the regular expression that was used to extract the element symbol can be used to identify the indices of all instances of non-digit characters in the line.\n",
    "- Left of the Element Symbol (in order from right to left) are A, Z, N, and N-Z\n",
    "- Left of the B- characters (present in every line) are BE/A error, BE/A, Mass Excess error, and Mass Excess\n",
    "- Right of the B- character are the Beta Decay Energy, Beta Decay Energy Error, Atomic Mass, Atomic Mass Error\n",
    "    - In the event that a beta decay energy is not calculable, there is an asterisk in place of Beta Decay Energy and error, this must be handled with care"
   ]
  },
  {
   "cell_type": "code",
   "execution_count": 149,
   "metadata": {},
   "outputs": [],
   "source": [
    "idxs = [i for i, item in enumerate(out[6]) if re.search(r\"([A-Z][a-z]?|n)\", item)]"
   ]
  },
  {
   "cell_type": "code",
   "execution_count": 153,
   "metadata": {},
   "outputs": [],
   "source": [
    "tes = [[i for i, item in enumerate(out[x]) if re.search(r\"([A-Z][a-z]?|n)\", item)] for x in range(len(out))]"
   ]
  },
  {
   "cell_type": "code",
   "execution_count": 202,
   "metadata": {},
   "outputs": [
    {
     "data": {
      "text/plain": [
       "[[5, 10],\n",
       " [4, 9],\n",
       " [5, 10],\n",
       " [5, 10],\n",
       " [4, 9],\n",
       " [4, 10],\n",
       " [5, 6, 11],\n",
       " [4, 9],\n",
       " [4, 10],\n",
       " [5, 6, 11]]"
      ]
     },
     "execution_count": 202,
     "metadata": {},
     "output_type": "execute_result"
    }
   ],
   "source": [
    "tes[0:10]"
   ]
  },
  {
   "cell_type": "code",
   "execution_count": 321,
   "metadata": {},
   "outputs": [],
   "source": [
    "A = [int(out[i][tes[i][0] - 1]) for i in range(len(tes))]\n",
    "Z = [int(out[i][tes[i][0] - 2]) for i in range(len(tes))]\n",
    "N = [int(out[i][tes[i][0] - 3]) for i in range(len(tes))]\n",
    "N_Z = [(N[i] - Z[i]) for i in range(len(Z))]"
   ]
  },
  {
   "cell_type": "code",
   "execution_count": 322,
   "metadata": {},
   "outputs": [],
   "source": [
    "BE_A            = [float(out[i][tes[i][-1] - 2]) for i in range(len(tes))]\n",
    "BE_A_err        = [float(out[i][tes[i][-1] - 1]) for i in range(len(tes))]\n",
    "mass_excess     = [float(out[i][tes[i][-1] - 4]) for i in range(len(tes))]\n",
    "mass_excess_err = [float(out[i][tes[i][-1] - 3]) for i in range(len(tes))]"
   ]
  },
  {
   "cell_type": "code",
   "execution_count": 323,
   "metadata": {},
   "outputs": [
    {
     "data": {
      "text/plain": [
       "[1008664.91582,\n",
       " 1007825.03224,\n",
       " 2014101.77811,\n",
       " 3016049.28199,\n",
       " 3016029.32265,\n",
       " 3030775.0,\n",
       " 4026431.868,\n",
       " 4002603.25413,\n",
       " 4027185.562,\n",
       " 5035311.493]"
      ]
     },
     "execution_count": 323,
     "metadata": {},
     "output_type": "execute_result"
    }
   ],
   "source": [
    "atomic_mass     = [float(out[i][-2]) for i in range(len(out))]\n",
    "atomic_mass_err = [float(out[i][-1]) for i in range(len(out))]\n",
    "atomic_mass[0:10]"
   ]
  },
  {
   "cell_type": "code",
   "execution_count": 324,
   "metadata": {},
   "outputs": [],
   "source": [
    "beta_E, beta_E_err = [], []\n",
    "for i in range(len(out)):\n",
    "    if out[i][tes[i][-1]+1] == \"*\":\n",
    "        beta_E.append(None)\n",
    "        beta_E_err.append(None)\n",
    "    else:\n",
    "        beta_E.append(float(out[i][tes[i][-1]+1]))\n",
    "        beta_E_err.append(float(out[i][tes[i][-1]+2]))"
   ]
  },
  {
   "cell_type": "code",
   "execution_count": 320,
   "metadata": {},
   "outputs": [
    {
     "data": {
      "text/plain": [
       "3436"
      ]
     },
     "execution_count": 320,
     "metadata": {},
     "output_type": "execute_result"
    }
   ],
   "source": [
    "len(beta_E_err)"
   ]
  },
  {
   "cell_type": "code",
   "execution_count": 325,
   "metadata": {},
   "outputs": [],
   "source": [
    "test_df = pd.DataFrame(list(zip(el_sym, Z, N, A, N_Z, BE_A, BE_A_err, mass_excess, mass_excess_err,\n",
    "                               atomic_mass, atomic_mass_err, beta_E, beta_E_err)))\n",
    "test_df.columns = [\"Element_Symbol\", \"Z\", \"A\", \"N\", \"N-Z\", \"BE_A\", \"BE_A_err\", \"MassExcess\", \"MassExcessErr\",\n",
    "                  \"AtomicMass\", \"AtomicMassErr\", \"BetaDecayE\", \"BetaDecayE_err\"]\n",
    "test_df.to_csv(\"cleaned_NuclearData.csv\", index=False)"
   ]
  },
  {
   "cell_type": "code",
   "execution_count": 326,
   "metadata": {},
   "outputs": [
    {
     "data": {
      "text/html": [
       "<div>\n",
       "<style scoped>\n",
       "    .dataframe tbody tr th:only-of-type {\n",
       "        vertical-align: middle;\n",
       "    }\n",
       "\n",
       "    .dataframe tbody tr th {\n",
       "        vertical-align: top;\n",
       "    }\n",
       "\n",
       "    .dataframe thead th {\n",
       "        text-align: right;\n",
       "    }\n",
       "</style>\n",
       "<table border=\"1\" class=\"dataframe\">\n",
       "  <thead>\n",
       "    <tr style=\"text-align: right;\">\n",
       "      <th></th>\n",
       "      <th>Element_Symbol</th>\n",
       "      <th>Z</th>\n",
       "      <th>A</th>\n",
       "      <th>N</th>\n",
       "      <th>N-Z</th>\n",
       "      <th>BE_A</th>\n",
       "      <th>BE_A_err</th>\n",
       "      <th>MassExcess</th>\n",
       "      <th>MassExcessErr</th>\n",
       "      <th>AtomicMass</th>\n",
       "      <th>AtomicMassErr</th>\n",
       "      <th>BetaDecayE</th>\n",
       "      <th>BetaDecayE_err</th>\n",
       "    </tr>\n",
       "  </thead>\n",
       "  <tbody>\n",
       "    <tr>\n",
       "      <th>402</th>\n",
       "      <td>Ni</td>\n",
       "      <td>28</td>\n",
       "      <td>20</td>\n",
       "      <td>48</td>\n",
       "      <td>-8</td>\n",
       "      <td>7265.000</td>\n",
       "      <td>10.000</td>\n",
       "      <td>16793.000</td>\n",
       "      <td>502.000</td>\n",
       "      <td>4.801803e+07</td>\n",
       "      <td>538.000</td>\n",
       "      <td>NaN</td>\n",
       "      <td>NaN</td>\n",
       "    </tr>\n",
       "    <tr>\n",
       "      <th>415</th>\n",
       "      <td>Ni</td>\n",
       "      <td>28</td>\n",
       "      <td>21</td>\n",
       "      <td>49</td>\n",
       "      <td>-7</td>\n",
       "      <td>7457.000</td>\n",
       "      <td>12.000</td>\n",
       "      <td>8200.000</td>\n",
       "      <td>600.000</td>\n",
       "      <td>4.900880e+07</td>\n",
       "      <td>644.000</td>\n",
       "      <td>NaN</td>\n",
       "      <td>NaN</td>\n",
       "    </tr>\n",
       "    <tr>\n",
       "      <th>427</th>\n",
       "      <td>Ni</td>\n",
       "      <td>28</td>\n",
       "      <td>22</td>\n",
       "      <td>50</td>\n",
       "      <td>-6</td>\n",
       "      <td>7716.000</td>\n",
       "      <td>10.000</td>\n",
       "      <td>-4120.000</td>\n",
       "      <td>500.000</td>\n",
       "      <td>4.999558e+07</td>\n",
       "      <td>537.000</td>\n",
       "      <td>NaN</td>\n",
       "      <td>NaN</td>\n",
       "    </tr>\n",
       "    <tr>\n",
       "      <th>439</th>\n",
       "      <td>Ni</td>\n",
       "      <td>28</td>\n",
       "      <td>23</td>\n",
       "      <td>51</td>\n",
       "      <td>-5</td>\n",
       "      <td>7875.000</td>\n",
       "      <td>10.000</td>\n",
       "      <td>-11900.000</td>\n",
       "      <td>500.000</td>\n",
       "      <td>5.098722e+07</td>\n",
       "      <td>537.000</td>\n",
       "      <td>NaN</td>\n",
       "      <td>NaN</td>\n",
       "    </tr>\n",
       "    <tr>\n",
       "      <th>450</th>\n",
       "      <td>Ni</td>\n",
       "      <td>28</td>\n",
       "      <td>24</td>\n",
       "      <td>52</td>\n",
       "      <td>-4</td>\n",
       "      <td>8079.000</td>\n",
       "      <td>8.000</td>\n",
       "      <td>-22330.000</td>\n",
       "      <td>400.000</td>\n",
       "      <td>5.197603e+07</td>\n",
       "      <td>429.000</td>\n",
       "      <td>-20049.000</td>\n",
       "      <td>721.000</td>\n",
       "    </tr>\n",
       "    <tr>\n",
       "      <th>462</th>\n",
       "      <td>Ni</td>\n",
       "      <td>28</td>\n",
       "      <td>25</td>\n",
       "      <td>53</td>\n",
       "      <td>-3</td>\n",
       "      <td>8217.074</td>\n",
       "      <td>0.475</td>\n",
       "      <td>-29630.824</td>\n",
       "      <td>25.150</td>\n",
       "      <td>5.296819e+07</td>\n",
       "      <td>27.000</td>\n",
       "      <td>-16361.000</td>\n",
       "      <td>501.000</td>\n",
       "    </tr>\n",
       "    <tr>\n",
       "      <th>473</th>\n",
       "      <td>Ni</td>\n",
       "      <td>28</td>\n",
       "      <td>26</td>\n",
       "      <td>54</td>\n",
       "      <td>-2</td>\n",
       "      <td>8393.032</td>\n",
       "      <td>0.086</td>\n",
       "      <td>-39278.308</td>\n",
       "      <td>4.657</td>\n",
       "      <td>5.395783e+07</td>\n",
       "      <td>5.000</td>\n",
       "      <td>-17868.000</td>\n",
       "      <td>400.000</td>\n",
       "    </tr>\n",
       "    <tr>\n",
       "      <th>485</th>\n",
       "      <td>Ni</td>\n",
       "      <td>28</td>\n",
       "      <td>27</td>\n",
       "      <td>55</td>\n",
       "      <td>-1</td>\n",
       "      <td>8497.320</td>\n",
       "      <td>0.013</td>\n",
       "      <td>-45335.849</td>\n",
       "      <td>0.719</td>\n",
       "      <td>5.495133e+07</td>\n",
       "      <td>0.771</td>\n",
       "      <td>-13700.449</td>\n",
       "      <td>155.561</td>\n",
       "    </tr>\n",
       "    <tr>\n",
       "      <th>497</th>\n",
       "      <td>Ni</td>\n",
       "      <td>28</td>\n",
       "      <td>28</td>\n",
       "      <td>56</td>\n",
       "      <td>0</td>\n",
       "      <td>8642.779</td>\n",
       "      <td>0.008</td>\n",
       "      <td>-53907.539</td>\n",
       "      <td>0.422</td>\n",
       "      <td>5.594213e+07</td>\n",
       "      <td>0.452</td>\n",
       "      <td>-15264.511</td>\n",
       "      <td>14.910</td>\n",
       "    </tr>\n",
       "    <tr>\n",
       "      <th>509</th>\n",
       "      <td>Ni</td>\n",
       "      <td>28</td>\n",
       "      <td>29</td>\n",
       "      <td>57</td>\n",
       "      <td>1</td>\n",
       "      <td>8670.933</td>\n",
       "      <td>0.010</td>\n",
       "      <td>-56083.833</td>\n",
       "      <td>0.582</td>\n",
       "      <td>5.693979e+07</td>\n",
       "      <td>0.624</td>\n",
       "      <td>-8774.947</td>\n",
       "      <td>0.439</td>\n",
       "    </tr>\n",
       "    <tr>\n",
       "      <th>521</th>\n",
       "      <td>Ni</td>\n",
       "      <td>28</td>\n",
       "      <td>30</td>\n",
       "      <td>58</td>\n",
       "      <td>2</td>\n",
       "      <td>8732.059</td>\n",
       "      <td>0.006</td>\n",
       "      <td>-60228.744</td>\n",
       "      <td>0.373</td>\n",
       "      <td>5.793534e+07</td>\n",
       "      <td>0.400</td>\n",
       "      <td>-8561.019</td>\n",
       "      <td>0.443</td>\n",
       "    </tr>\n",
       "    <tr>\n",
       "      <th>533</th>\n",
       "      <td>Ni</td>\n",
       "      <td>28</td>\n",
       "      <td>31</td>\n",
       "      <td>59</td>\n",
       "      <td>3</td>\n",
       "      <td>8736.588</td>\n",
       "      <td>0.006</td>\n",
       "      <td>-61156.707</td>\n",
       "      <td>0.374</td>\n",
       "      <td>5.893435e+07</td>\n",
       "      <td>0.402</td>\n",
       "      <td>-4798.380</td>\n",
       "      <td>0.397</td>\n",
       "    </tr>\n",
       "    <tr>\n",
       "      <th>545</th>\n",
       "      <td>Ni</td>\n",
       "      <td>28</td>\n",
       "      <td>32</td>\n",
       "      <td>60</td>\n",
       "      <td>4</td>\n",
       "      <td>8780.774</td>\n",
       "      <td>0.006</td>\n",
       "      <td>-64473.118</td>\n",
       "      <td>0.376</td>\n",
       "      <td>5.993079e+07</td>\n",
       "      <td>0.403</td>\n",
       "      <td>-6127.982</td>\n",
       "      <td>1.573</td>\n",
       "    </tr>\n",
       "    <tr>\n",
       "      <th>558</th>\n",
       "      <td>Ni</td>\n",
       "      <td>28</td>\n",
       "      <td>33</td>\n",
       "      <td>61</td>\n",
       "      <td>5</td>\n",
       "      <td>8765.025</td>\n",
       "      <td>0.006</td>\n",
       "      <td>-64221.905</td>\n",
       "      <td>0.378</td>\n",
       "      <td>6.093105e+07</td>\n",
       "      <td>0.405</td>\n",
       "      <td>-2237.845</td>\n",
       "      <td>0.966</td>\n",
       "    </tr>\n",
       "    <tr>\n",
       "      <th>570</th>\n",
       "      <td>Ni</td>\n",
       "      <td>28</td>\n",
       "      <td>34</td>\n",
       "      <td>62</td>\n",
       "      <td>6</td>\n",
       "      <td>8794.553</td>\n",
       "      <td>0.007</td>\n",
       "      <td>-66746.323</td>\n",
       "      <td>0.439</td>\n",
       "      <td>6.192834e+07</td>\n",
       "      <td>0.470</td>\n",
       "      <td>-3958.896</td>\n",
       "      <td>0.475</td>\n",
       "    </tr>\n",
       "    <tr>\n",
       "      <th>582</th>\n",
       "      <td>Ni</td>\n",
       "      <td>28</td>\n",
       "      <td>35</td>\n",
       "      <td>63</td>\n",
       "      <td>7</td>\n",
       "      <td>8763.493</td>\n",
       "      <td>0.007</td>\n",
       "      <td>-65512.775</td>\n",
       "      <td>0.440</td>\n",
       "      <td>6.292967e+07</td>\n",
       "      <td>0.472</td>\n",
       "      <td>66.977</td>\n",
       "      <td>0.015</td>\n",
       "    </tr>\n",
       "    <tr>\n",
       "      <th>594</th>\n",
       "      <td>Ni</td>\n",
       "      <td>28</td>\n",
       "      <td>36</td>\n",
       "      <td>64</td>\n",
       "      <td>8</td>\n",
       "      <td>8777.461</td>\n",
       "      <td>0.007</td>\n",
       "      <td>-67098.921</td>\n",
       "      <td>0.475</td>\n",
       "      <td>6.392797e+07</td>\n",
       "      <td>0.510</td>\n",
       "      <td>-1674.376</td>\n",
       "      <td>0.225</td>\n",
       "    </tr>\n",
       "    <tr>\n",
       "      <th>606</th>\n",
       "      <td>Ni</td>\n",
       "      <td>28</td>\n",
       "      <td>37</td>\n",
       "      <td>65</td>\n",
       "      <td>9</td>\n",
       "      <td>8736.240</td>\n",
       "      <td>0.008</td>\n",
       "      <td>-65125.685</td>\n",
       "      <td>0.495</td>\n",
       "      <td>6.493008e+07</td>\n",
       "      <td>0.531</td>\n",
       "      <td>2137.975</td>\n",
       "      <td>0.706</td>\n",
       "    </tr>\n",
       "    <tr>\n",
       "      <th>618</th>\n",
       "      <td>Ni</td>\n",
       "      <td>28</td>\n",
       "      <td>38</td>\n",
       "      <td>66</td>\n",
       "      <td>10</td>\n",
       "      <td>8739.508</td>\n",
       "      <td>0.021</td>\n",
       "      <td>-66006.285</td>\n",
       "      <td>1.397</td>\n",
       "      <td>6.592914e+07</td>\n",
       "      <td>1.500</td>\n",
       "      <td>251.987</td>\n",
       "      <td>1.543</td>\n",
       "    </tr>\n",
       "    <tr>\n",
       "      <th>630</th>\n",
       "      <td>Ni</td>\n",
       "      <td>28</td>\n",
       "      <td>39</td>\n",
       "      <td>67</td>\n",
       "      <td>11</td>\n",
       "      <td>8695.750</td>\n",
       "      <td>0.043</td>\n",
       "      <td>-63742.680</td>\n",
       "      <td>2.888</td>\n",
       "      <td>6.693157e+07</td>\n",
       "      <td>3.100</td>\n",
       "      <td>3576.832</td>\n",
       "      <td>3.023</td>\n",
       "    </tr>\n",
       "    <tr>\n",
       "      <th>642</th>\n",
       "      <td>Ni</td>\n",
       "      <td>28</td>\n",
       "      <td>40</td>\n",
       "      <td>68</td>\n",
       "      <td>12</td>\n",
       "      <td>8682.466</td>\n",
       "      <td>0.044</td>\n",
       "      <td>-63463.814</td>\n",
       "      <td>2.981</td>\n",
       "      <td>6.793187e+07</td>\n",
       "      <td>3.200</td>\n",
       "      <td>2103.220</td>\n",
       "      <td>3.375</td>\n",
       "    </tr>\n",
       "    <tr>\n",
       "      <th>654</th>\n",
       "      <td>Ni</td>\n",
       "      <td>28</td>\n",
       "      <td>41</td>\n",
       "      <td>69</td>\n",
       "      <td>13</td>\n",
       "      <td>8623.099</td>\n",
       "      <td>0.054</td>\n",
       "      <td>-59978.648</td>\n",
       "      <td>3.726</td>\n",
       "      <td>6.893561e+07</td>\n",
       "      <td>4.000</td>\n",
       "      <td>5757.564</td>\n",
       "      <td>3.979</td>\n",
       "    </tr>\n",
       "    <tr>\n",
       "      <th>667</th>\n",
       "      <td>Ni</td>\n",
       "      <td>28</td>\n",
       "      <td>42</td>\n",
       "      <td>70</td>\n",
       "      <td>14</td>\n",
       "      <td>8604.291</td>\n",
       "      <td>0.031</td>\n",
       "      <td>-59213.860</td>\n",
       "      <td>2.144</td>\n",
       "      <td>6.993643e+07</td>\n",
       "      <td>2.301</td>\n",
       "      <td>3762.513</td>\n",
       "      <td>2.401</td>\n",
       "    </tr>\n",
       "    <tr>\n",
       "      <th>679</th>\n",
       "      <td>Ni</td>\n",
       "      <td>28</td>\n",
       "      <td>43</td>\n",
       "      <td>71</td>\n",
       "      <td>15</td>\n",
       "      <td>8543.156</td>\n",
       "      <td>0.032</td>\n",
       "      <td>-55406.228</td>\n",
       "      <td>2.237</td>\n",
       "      <td>7.094052e+07</td>\n",
       "      <td>2.401</td>\n",
       "      <td>7304.899</td>\n",
       "      <td>2.688</td>\n",
       "    </tr>\n",
       "    <tr>\n",
       "      <th>692</th>\n",
       "      <td>Ni</td>\n",
       "      <td>28</td>\n",
       "      <td>44</td>\n",
       "      <td>72</td>\n",
       "      <td>16</td>\n",
       "      <td>8520.211</td>\n",
       "      <td>0.031</td>\n",
       "      <td>-54226.060</td>\n",
       "      <td>2.237</td>\n",
       "      <td>7.194179e+07</td>\n",
       "      <td>2.401</td>\n",
       "      <td>5556.938</td>\n",
       "      <td>2.637</td>\n",
       "    </tr>\n",
       "    <tr>\n",
       "      <th>704</th>\n",
       "      <td>Ni</td>\n",
       "      <td>28</td>\n",
       "      <td>45</td>\n",
       "      <td>73</td>\n",
       "      <td>17</td>\n",
       "      <td>8457.652</td>\n",
       "      <td>0.033</td>\n",
       "      <td>-50108.152</td>\n",
       "      <td>2.423</td>\n",
       "      <td>7.294621e+07</td>\n",
       "      <td>2.601</td>\n",
       "      <td>8879.285</td>\n",
       "      <td>3.104</td>\n",
       "    </tr>\n",
       "    <tr>\n",
       "      <th>717</th>\n",
       "      <td>Ni</td>\n",
       "      <td>28</td>\n",
       "      <td>46</td>\n",
       "      <td>74</td>\n",
       "      <td>18</td>\n",
       "      <td>8430.000</td>\n",
       "      <td>3.000</td>\n",
       "      <td>-48456.000</td>\n",
       "      <td>196.000</td>\n",
       "      <td>7.394798e+07</td>\n",
       "      <td>210.000</td>\n",
       "      <td>7550.000</td>\n",
       "      <td>196.000</td>\n",
       "    </tr>\n",
       "    <tr>\n",
       "      <th>730</th>\n",
       "      <td>Ni</td>\n",
       "      <td>28</td>\n",
       "      <td>47</td>\n",
       "      <td>75</td>\n",
       "      <td>19</td>\n",
       "      <td>8366.000</td>\n",
       "      <td>4.000</td>\n",
       "      <td>-44030.000</td>\n",
       "      <td>300.000</td>\n",
       "      <td>7.495273e+07</td>\n",
       "      <td>322.000</td>\n",
       "      <td>10441.000</td>\n",
       "      <td>300.000</td>\n",
       "    </tr>\n",
       "    <tr>\n",
       "      <th>743</th>\n",
       "      <td>Ni</td>\n",
       "      <td>28</td>\n",
       "      <td>48</td>\n",
       "      <td>76</td>\n",
       "      <td>20</td>\n",
       "      <td>8331.000</td>\n",
       "      <td>5.000</td>\n",
       "      <td>-41630.000</td>\n",
       "      <td>400.000</td>\n",
       "      <td>7.595531e+07</td>\n",
       "      <td>429.000</td>\n",
       "      <td>9346.000</td>\n",
       "      <td>400.000</td>\n",
       "    </tr>\n",
       "    <tr>\n",
       "      <th>756</th>\n",
       "      <td>Ni</td>\n",
       "      <td>28</td>\n",
       "      <td>49</td>\n",
       "      <td>77</td>\n",
       "      <td>21</td>\n",
       "      <td>8265.000</td>\n",
       "      <td>6.000</td>\n",
       "      <td>-36800.000</td>\n",
       "      <td>500.000</td>\n",
       "      <td>7.696049e+07</td>\n",
       "      <td>537.000</td>\n",
       "      <td>11824.000</td>\n",
       "      <td>522.000</td>\n",
       "    </tr>\n",
       "    <tr>\n",
       "      <th>769</th>\n",
       "      <td>Ni</td>\n",
       "      <td>28</td>\n",
       "      <td>50</td>\n",
       "      <td>78</td>\n",
       "      <td>22</td>\n",
       "      <td>8225.000</td>\n",
       "      <td>8.000</td>\n",
       "      <td>-33890.000</td>\n",
       "      <td>600.000</td>\n",
       "      <td>7.796362e+07</td>\n",
       "      <td>644.000</td>\n",
       "      <td>10608.000</td>\n",
       "      <td>783.000</td>\n",
       "    </tr>\n",
       "    <tr>\n",
       "      <th>782</th>\n",
       "      <td>Ni</td>\n",
       "      <td>28</td>\n",
       "      <td>51</td>\n",
       "      <td>79</td>\n",
       "      <td>23</td>\n",
       "      <td>8143.000</td>\n",
       "      <td>8.000</td>\n",
       "      <td>-27570.000</td>\n",
       "      <td>600.000</td>\n",
       "      <td>7.897040e+07</td>\n",
       "      <td>644.000</td>\n",
       "      <td>14170.000</td>\n",
       "      <td>671.000</td>\n",
       "    </tr>\n",
       "    <tr>\n",
       "      <th>796</th>\n",
       "      <td>Ni</td>\n",
       "      <td>28</td>\n",
       "      <td>52</td>\n",
       "      <td>80</td>\n",
       "      <td>24</td>\n",
       "      <td>8080.000</td>\n",
       "      <td>9.000</td>\n",
       "      <td>-22630.000</td>\n",
       "      <td>700.000</td>\n",
       "      <td>7.997571e+07</td>\n",
       "      <td>751.000</td>\n",
       "      <td>13570.000</td>\n",
       "      <td>806.000</td>\n",
       "    </tr>\n",
       "  </tbody>\n",
       "</table>\n",
       "</div>"
      ],
      "text/plain": [
       "    Element_Symbol   Z   A   N  N-Z      BE_A  BE_A_err  MassExcess  \\\n",
       "402             Ni  28  20  48   -8  7265.000    10.000   16793.000   \n",
       "415             Ni  28  21  49   -7  7457.000    12.000    8200.000   \n",
       "427             Ni  28  22  50   -6  7716.000    10.000   -4120.000   \n",
       "439             Ni  28  23  51   -5  7875.000    10.000  -11900.000   \n",
       "450             Ni  28  24  52   -4  8079.000     8.000  -22330.000   \n",
       "462             Ni  28  25  53   -3  8217.074     0.475  -29630.824   \n",
       "473             Ni  28  26  54   -2  8393.032     0.086  -39278.308   \n",
       "485             Ni  28  27  55   -1  8497.320     0.013  -45335.849   \n",
       "497             Ni  28  28  56    0  8642.779     0.008  -53907.539   \n",
       "509             Ni  28  29  57    1  8670.933     0.010  -56083.833   \n",
       "521             Ni  28  30  58    2  8732.059     0.006  -60228.744   \n",
       "533             Ni  28  31  59    3  8736.588     0.006  -61156.707   \n",
       "545             Ni  28  32  60    4  8780.774     0.006  -64473.118   \n",
       "558             Ni  28  33  61    5  8765.025     0.006  -64221.905   \n",
       "570             Ni  28  34  62    6  8794.553     0.007  -66746.323   \n",
       "582             Ni  28  35  63    7  8763.493     0.007  -65512.775   \n",
       "594             Ni  28  36  64    8  8777.461     0.007  -67098.921   \n",
       "606             Ni  28  37  65    9  8736.240     0.008  -65125.685   \n",
       "618             Ni  28  38  66   10  8739.508     0.021  -66006.285   \n",
       "630             Ni  28  39  67   11  8695.750     0.043  -63742.680   \n",
       "642             Ni  28  40  68   12  8682.466     0.044  -63463.814   \n",
       "654             Ni  28  41  69   13  8623.099     0.054  -59978.648   \n",
       "667             Ni  28  42  70   14  8604.291     0.031  -59213.860   \n",
       "679             Ni  28  43  71   15  8543.156     0.032  -55406.228   \n",
       "692             Ni  28  44  72   16  8520.211     0.031  -54226.060   \n",
       "704             Ni  28  45  73   17  8457.652     0.033  -50108.152   \n",
       "717             Ni  28  46  74   18  8430.000     3.000  -48456.000   \n",
       "730             Ni  28  47  75   19  8366.000     4.000  -44030.000   \n",
       "743             Ni  28  48  76   20  8331.000     5.000  -41630.000   \n",
       "756             Ni  28  49  77   21  8265.000     6.000  -36800.000   \n",
       "769             Ni  28  50  78   22  8225.000     8.000  -33890.000   \n",
       "782             Ni  28  51  79   23  8143.000     8.000  -27570.000   \n",
       "796             Ni  28  52  80   24  8080.000     9.000  -22630.000   \n",
       "\n",
       "     MassExcessErr    AtomicMass  AtomicMassErr  BetaDecayE  BetaDecayE_err  \n",
       "402        502.000  4.801803e+07        538.000         NaN             NaN  \n",
       "415        600.000  4.900880e+07        644.000         NaN             NaN  \n",
       "427        500.000  4.999558e+07        537.000         NaN             NaN  \n",
       "439        500.000  5.098722e+07        537.000         NaN             NaN  \n",
       "450        400.000  5.197603e+07        429.000  -20049.000         721.000  \n",
       "462         25.150  5.296819e+07         27.000  -16361.000         501.000  \n",
       "473          4.657  5.395783e+07          5.000  -17868.000         400.000  \n",
       "485          0.719  5.495133e+07          0.771  -13700.449         155.561  \n",
       "497          0.422  5.594213e+07          0.452  -15264.511          14.910  \n",
       "509          0.582  5.693979e+07          0.624   -8774.947           0.439  \n",
       "521          0.373  5.793534e+07          0.400   -8561.019           0.443  \n",
       "533          0.374  5.893435e+07          0.402   -4798.380           0.397  \n",
       "545          0.376  5.993079e+07          0.403   -6127.982           1.573  \n",
       "558          0.378  6.093105e+07          0.405   -2237.845           0.966  \n",
       "570          0.439  6.192834e+07          0.470   -3958.896           0.475  \n",
       "582          0.440  6.292967e+07          0.472      66.977           0.015  \n",
       "594          0.475  6.392797e+07          0.510   -1674.376           0.225  \n",
       "606          0.495  6.493008e+07          0.531    2137.975           0.706  \n",
       "618          1.397  6.592914e+07          1.500     251.987           1.543  \n",
       "630          2.888  6.693157e+07          3.100    3576.832           3.023  \n",
       "642          2.981  6.793187e+07          3.200    2103.220           3.375  \n",
       "654          3.726  6.893561e+07          4.000    5757.564           3.979  \n",
       "667          2.144  6.993643e+07          2.301    3762.513           2.401  \n",
       "679          2.237  7.094052e+07          2.401    7304.899           2.688  \n",
       "692          2.237  7.194179e+07          2.401    5556.938           2.637  \n",
       "704          2.423  7.294621e+07          2.601    8879.285           3.104  \n",
       "717        196.000  7.394798e+07        210.000    7550.000         196.000  \n",
       "730        300.000  7.495273e+07        322.000   10441.000         300.000  \n",
       "743        400.000  7.595531e+07        429.000    9346.000         400.000  \n",
       "756        500.000  7.696049e+07        537.000   11824.000         522.000  \n",
       "769        600.000  7.796362e+07        644.000   10608.000         783.000  \n",
       "782        600.000  7.897040e+07        644.000   14170.000         671.000  \n",
       "796        700.000  7.997571e+07        751.000   13570.000         806.000  "
      ]
     },
     "execution_count": 326,
     "metadata": {},
     "output_type": "execute_result"
    }
   ],
   "source": [
    "test_df.query(\"Element_Symbol == 'Ni'\")"
   ]
  },
  {
   "cell_type": "code",
   "execution_count": 312,
   "metadata": {},
   "outputs": [
    {
     "name": "stdout",
     "output_type": "stream",
     "text": [
      "2.3.1\n"
     ]
    }
   ],
   "source": [
    "import tensorflow as tf\n",
    "\n",
    "from tensorflow import keras\n",
    "from tensorflow.keras import layers\n",
    "from tensorflow.keras.layers.experimental import preprocessing\n",
    "\n",
    "print(tf.__version__)\n",
    "from keras import layers\n",
    "from keras.models import Model\n",
    "from keras.preprocessing import image\n",
    "from keras.utils import layer_utils\n",
    "from keras.utils.data_utils import get_file\n",
    "from keras.applications.imagenet_utils import preprocess_input\n",
    "import pydot\n",
    "from keras.utils.vis_utils import model_to_dot\n",
    "from keras.utils import plot_model\n",
    "\n",
    "import keras.backend as K\n",
    "K.set_image_data_format('channels_last')"
   ]
  },
  {
   "cell_type": "code",
   "execution_count": 308,
   "metadata": {},
   "outputs": [],
   "source": [
    "import seaborn as sns"
   ]
  },
  {
   "cell_type": "code",
   "execution_count": 310,
   "metadata": {},
   "outputs": [
    {
     "data": {
      "text/plain": [
       "<seaborn.axisgrid.PairGrid at 0x118f84949a0>"
      ]
     },
     "execution_count": 310,
     "metadata": {},
     "output_type": "execute_result"
    },
    {
     "data": {
      "image/png": "[encoded data removed]",
      "text/plain": [
       "<Figure size 720x720 with 20 Axes>"
      ]
     },
     "metadata": {},
     "output_type": "display_data"
    }
   ],
   "source": [
    "sns.pairplot(test_df[['Z', 'N', 'N-Z', 'BE_A']], diag_kind='kde')"
   ]
  },
  {
   "cell_type": "code",
   "execution_count": 327,
   "metadata": {},
   "outputs": [
    {
     "data": {
      "text/plain": [
       "Element_Symbol      0\n",
       "Z                   0\n",
       "A                   0\n",
       "N                   0\n",
       "N-Z                 0\n",
       "BE_A                0\n",
       "BE_A_err            0\n",
       "MassExcess          0\n",
       "MassExcessErr       0\n",
       "AtomicMass          0\n",
       "AtomicMassErr       0\n",
       "BetaDecayE        295\n",
       "BetaDecayE_err    295\n",
       "dtype: int64"
      ]
     },
     "execution_count": 327,
     "metadata": {},
     "output_type": "execute_result"
    }
   ],
   "source": [
    "test_df.isna().sum()"
   ]
  },
  {
   "cell_type": "code",
   "execution_count": 315,
   "metadata": {},
   "outputs": [],
   "source": [
    "test_df = test_df.dropna()"
   ]
  },
  {
   "cell_type": "code",
   "execution_count": 333,
   "metadata": {},
   "outputs": [],
   "source": [
    "train_dataset = test_df.sample(frac=0.8, random_state=0)\n",
    "test_dataset = test_df.drop(train_dataset.index)"
   ]
  },
  {
   "cell_type": "code",
   "execution_count": 334,
   "metadata": {},
   "outputs": [
    {
     "data": {
      "text/html": [
       "<div>\n",
       "<style scoped>\n",
       "    .dataframe tbody tr th:only-of-type {\n",
       "        vertical-align: middle;\n",
       "    }\n",
       "\n",
       "    .dataframe tbody tr th {\n",
       "        vertical-align: top;\n",
       "    }\n",
       "\n",
       "    .dataframe thead th {\n",
       "        text-align: right;\n",
       "    }\n",
       "</style>\n",
       "<table border=\"1\" class=\"dataframe\">\n",
       "  <thead>\n",
       "    <tr style=\"text-align: right;\">\n",
       "      <th></th>\n",
       "      <th>count</th>\n",
       "      <th>mean</th>\n",
       "      <th>std</th>\n",
       "      <th>min</th>\n",
       "      <th>25%</th>\n",
       "      <th>50%</th>\n",
       "      <th>75%</th>\n",
       "      <th>max</th>\n",
       "    </tr>\n",
       "  </thead>\n",
       "  <tbody>\n",
       "    <tr>\n",
       "      <th>Z</th>\n",
       "      <td>2749.0</td>\n",
       "      <td>5.783630e+01</td>\n",
       "      <td>2.806847e+01</td>\n",
       "      <td>1.000000e+00</td>\n",
       "      <td>3.600000e+01</td>\n",
       "      <td>5.800000e+01</td>\n",
       "      <td>8.000000e+01</td>\n",
       "      <td>1.180000e+02</td>\n",
       "    </tr>\n",
       "    <tr>\n",
       "      <th>A</th>\n",
       "      <td>2749.0</td>\n",
       "      <td>8.198690e+01</td>\n",
       "      <td>4.353148e+01</td>\n",
       "      <td>0.000000e+00</td>\n",
       "      <td>4.700000e+01</td>\n",
       "      <td>8.100000e+01</td>\n",
       "      <td>1.140000e+02</td>\n",
       "      <td>1.770000e+02</td>\n",
       "    </tr>\n",
       "    <tr>\n",
       "      <th>N</th>\n",
       "      <td>2749.0</td>\n",
       "      <td>1.398232e+02</td>\n",
       "      <td>7.109525e+01</td>\n",
       "      <td>1.000000e+00</td>\n",
       "      <td>8.400000e+01</td>\n",
       "      <td>1.390000e+02</td>\n",
       "      <td>1.940000e+02</td>\n",
       "      <td>2.950000e+02</td>\n",
       "    </tr>\n",
       "    <tr>\n",
       "      <th>N-Z</th>\n",
       "      <td>2749.0</td>\n",
       "      <td>2.415060e+01</td>\n",
       "      <td>1.763870e+01</td>\n",
       "      <td>-8.000000e+00</td>\n",
       "      <td>1.000000e+01</td>\n",
       "      <td>2.200000e+01</td>\n",
       "      <td>3.800000e+01</td>\n",
       "      <td>6.100000e+01</td>\n",
       "    </tr>\n",
       "    <tr>\n",
       "      <th>BE_A</th>\n",
       "      <td>2749.0</td>\n",
       "      <td>7.945869e+03</td>\n",
       "      <td>7.673857e+02</td>\n",
       "      <td>-2.267000e+03</td>\n",
       "      <td>7.719038e+03</td>\n",
       "      <td>8.066000e+03</td>\n",
       "      <td>8.361059e+03</td>\n",
       "      <td>8.794553e+03</td>\n",
       "    </tr>\n",
       "    <tr>\n",
       "      <th>BE_A_err</th>\n",
       "      <td>2749.0</td>\n",
       "      <td>2.014006e+00</td>\n",
       "      <td>1.675891e+01</td>\n",
       "      <td>0.000000e+00</td>\n",
       "      <td>2.500000e-02</td>\n",
       "      <td>9.900000e-02</td>\n",
       "      <td>1.024000e+00</td>\n",
       "      <td>6.670000e+02</td>\n",
       "    </tr>\n",
       "    <tr>\n",
       "      <th>MassExcess</th>\n",
       "      <td>2749.0</td>\n",
       "      <td>-2.329751e+04</td>\n",
       "      <td>5.644575e+04</td>\n",
       "      <td>-9.165285e+04</td>\n",
       "      <td>-6.454300e+04</td>\n",
       "      <td>-3.877900e+04</td>\n",
       "      <td>2.329000e+03</td>\n",
       "      <td>2.015120e+05</td>\n",
       "    </tr>\n",
       "    <tr>\n",
       "      <th>MassExcessErr</th>\n",
       "      <td>2749.0</td>\n",
       "      <td>1.258043e+02</td>\n",
       "      <td>2.002939e+02</td>\n",
       "      <td>0.000000e+00</td>\n",
       "      <td>3.074000e+00</td>\n",
       "      <td>1.501800e+01</td>\n",
       "      <td>2.000000e+02</td>\n",
       "      <td>2.003000e+03</td>\n",
       "    </tr>\n",
       "    <tr>\n",
       "      <th>AtomicMass</th>\n",
       "      <td>2749.0</td>\n",
       "      <td>1.397982e+08</td>\n",
       "      <td>7.112651e+07</td>\n",
       "      <td>1.007825e+06</td>\n",
       "      <td>8.391650e+07</td>\n",
       "      <td>1.389298e+08</td>\n",
       "      <td>1.939654e+08</td>\n",
       "      <td>2.952163e+08</td>\n",
       "    </tr>\n",
       "    <tr>\n",
       "      <th>AtomicMassErr</th>\n",
       "      <td>2749.0</td>\n",
       "      <td>1.350340e+02</td>\n",
       "      <td>2.149951e+02</td>\n",
       "      <td>0.000000e+00</td>\n",
       "      <td>3.300000e+00</td>\n",
       "      <td>1.612200e+01</td>\n",
       "      <td>2.150000e+02</td>\n",
       "      <td>2.150000e+03</td>\n",
       "    </tr>\n",
       "    <tr>\n",
       "      <th>BetaDecayE</th>\n",
       "      <td>2507.0</td>\n",
       "      <td>-3.526863e+01</td>\n",
       "      <td>8.183499e+03</td>\n",
       "      <td>-2.894500e+04</td>\n",
       "      <td>-5.364505e+03</td>\n",
       "      <td>-7.853070e+02</td>\n",
       "      <td>4.894645e+03</td>\n",
       "      <td>3.168700e+04</td>\n",
       "    </tr>\n",
       "    <tr>\n",
       "      <th>BetaDecayE_err</th>\n",
       "      <td>2507.0</td>\n",
       "      <td>1.592489e+02</td>\n",
       "      <td>2.424600e+02</td>\n",
       "      <td>2.000000e-03</td>\n",
       "      <td>6.664500e+00</td>\n",
       "      <td>2.851000e+01</td>\n",
       "      <td>2.555000e+02</td>\n",
       "      <td>2.003000e+03</td>\n",
       "    </tr>\n",
       "  </tbody>\n",
       "</table>\n",
       "</div>"
      ],
      "text/plain": [
       "                 count          mean           std           min  \\\n",
       "Z               2749.0  5.783630e+01  2.806847e+01  1.000000e+00   \n",
       "A               2749.0  8.198690e+01  4.353148e+01  0.000000e+00   \n",
       "N               2749.0  1.398232e+02  7.109525e+01  1.000000e+00   \n",
       "N-Z             2749.0  2.415060e+01  1.763870e+01 -8.000000e+00   \n",
       "BE_A            2749.0  7.945869e+03  7.673857e+02 -2.267000e+03   \n",
       "BE_A_err        2749.0  2.014006e+00  1.675891e+01  0.000000e+00   \n",
       "MassExcess      2749.0 -2.329751e+04  5.644575e+04 -9.165285e+04   \n",
       "MassExcessErr   2749.0  1.258043e+02  2.002939e+02  0.000000e+00   \n",
       "AtomicMass      2749.0  1.397982e+08  7.112651e+07  1.007825e+06   \n",
       "AtomicMassErr   2749.0  1.350340e+02  2.149951e+02  0.000000e+00   \n",
       "BetaDecayE      2507.0 -3.526863e+01  8.183499e+03 -2.894500e+04   \n",
       "BetaDecayE_err  2507.0  1.592489e+02  2.424600e+02  2.000000e-03   \n",
       "\n",
       "                         25%           50%           75%           max  \n",
       "Z               3.600000e+01  5.800000e+01  8.000000e+01  1.180000e+02  \n",
       "A               4.700000e+01  8.100000e+01  1.140000e+02  1.770000e+02  \n",
       "N               8.400000e+01  1.390000e+02  1.940000e+02  2.950000e+02  \n",
       "N-Z             1.000000e+01  2.200000e+01  3.800000e+01  6.100000e+01  \n",
       "BE_A            7.719038e+03  8.066000e+03  8.361059e+03  8.794553e+03  \n",
       "BE_A_err        2.500000e-02  9.900000e-02  1.024000e+00  6.670000e+02  \n",
       "MassExcess     -6.454300e+04 -3.877900e+04  2.329000e+03  2.015120e+05  \n",
       "MassExcessErr   3.074000e+00  1.501800e+01  2.000000e+02  2.003000e+03  \n",
       "AtomicMass      8.391650e+07  1.389298e+08  1.939654e+08  2.952163e+08  \n",
       "AtomicMassErr   3.300000e+00  1.612200e+01  2.150000e+02  2.150000e+03  \n",
       "BetaDecayE     -5.364505e+03 -7.853070e+02  4.894645e+03  3.168700e+04  \n",
       "BetaDecayE_err  6.664500e+00  2.851000e+01  2.555000e+02  2.003000e+03  "
      ]
     },
     "execution_count": 334,
     "metadata": {},
     "output_type": "execute_result"
    }
   ],
   "source": [
    "train_dataset.describe().transpose()"
   ]
  },
  {
   "cell_type": "code",
   "execution_count": 341,
   "metadata": {},
   "outputs": [],
   "source": [
    "train_features = train_dataset[['Z', 'N']].copy()\n",
    "test_features = test_dataset[['Z', 'N']].copy()\n",
    "\n",
    "train_labels = train_dataset[[\"BE_A\"]].copy()\n",
    "test_labels = test_dataset[[\"BE_A\"]].copy()"
   ]
  },
  {
   "cell_type": "markdown",
   "metadata": {},
   "source": [
    "#### Normalization"
   ]
  },
  {
   "cell_type": "code",
   "execution_count": 345,
   "metadata": {},
   "outputs": [
    {
     "data": {
      "text/html": [
       "<div>\n",
       "<style scoped>\n",
       "    .dataframe tbody tr th:only-of-type {\n",
       "        vertical-align: middle;\n",
       "    }\n",
       "\n",
       "    .dataframe tbody tr th {\n",
       "        vertical-align: top;\n",
       "    }\n",
       "\n",
       "    .dataframe thead th {\n",
       "        text-align: right;\n",
       "    }\n",
       "</style>\n",
       "<table border=\"1\" class=\"dataframe\">\n",
       "  <thead>\n",
       "    <tr style=\"text-align: right;\">\n",
       "      <th></th>\n",
       "      <th>mean</th>\n",
       "      <th>std</th>\n",
       "    </tr>\n",
       "  </thead>\n",
       "  <tbody>\n",
       "    <tr>\n",
       "      <th>Z</th>\n",
       "      <td>5.783630e+01</td>\n",
       "      <td>2.806847e+01</td>\n",
       "    </tr>\n",
       "    <tr>\n",
       "      <th>A</th>\n",
       "      <td>8.198690e+01</td>\n",
       "      <td>4.353148e+01</td>\n",
       "    </tr>\n",
       "    <tr>\n",
       "      <th>N</th>\n",
       "      <td>1.398232e+02</td>\n",
       "      <td>7.109525e+01</td>\n",
       "    </tr>\n",
       "    <tr>\n",
       "      <th>N-Z</th>\n",
       "      <td>2.415060e+01</td>\n",
       "      <td>1.763870e+01</td>\n",
       "    </tr>\n",
       "    <tr>\n",
       "      <th>BE_A</th>\n",
       "      <td>7.945869e+03</td>\n",
       "      <td>7.673857e+02</td>\n",
       "    </tr>\n",
       "    <tr>\n",
       "      <th>BE_A_err</th>\n",
       "      <td>2.014006e+00</td>\n",
       "      <td>1.675891e+01</td>\n",
       "    </tr>\n",
       "    <tr>\n",
       "      <th>MassExcess</th>\n",
       "      <td>-2.329751e+04</td>\n",
       "      <td>5.644575e+04</td>\n",
       "    </tr>\n",
       "    <tr>\n",
       "      <th>MassExcessErr</th>\n",
       "      <td>1.258043e+02</td>\n",
       "      <td>2.002939e+02</td>\n",
       "    </tr>\n",
       "    <tr>\n",
       "      <th>AtomicMass</th>\n",
       "      <td>1.397982e+08</td>\n",
       "      <td>7.112651e+07</td>\n",
       "    </tr>\n",
       "    <tr>\n",
       "      <th>AtomicMassErr</th>\n",
       "      <td>1.350340e+02</td>\n",
       "      <td>2.149951e+02</td>\n",
       "    </tr>\n",
       "    <tr>\n",
       "      <th>BetaDecayE</th>\n",
       "      <td>-3.526863e+01</td>\n",
       "      <td>8.183499e+03</td>\n",
       "    </tr>\n",
       "    <tr>\n",
       "      <th>BetaDecayE_err</th>\n",
       "      <td>1.592489e+02</td>\n",
       "      <td>2.424600e+02</td>\n",
       "    </tr>\n",
       "  </tbody>\n",
       "</table>\n",
       "</div>"
      ],
      "text/plain": [
       "                        mean           std\n",
       "Z               5.783630e+01  2.806847e+01\n",
       "A               8.198690e+01  4.353148e+01\n",
       "N               1.398232e+02  7.109525e+01\n",
       "N-Z             2.415060e+01  1.763870e+01\n",
       "BE_A            7.945869e+03  7.673857e+02\n",
       "BE_A_err        2.014006e+00  1.675891e+01\n",
       "MassExcess     -2.329751e+04  5.644575e+04\n",
       "MassExcessErr   1.258043e+02  2.002939e+02\n",
       "AtomicMass      1.397982e+08  7.112651e+07\n",
       "AtomicMassErr   1.350340e+02  2.149951e+02\n",
       "BetaDecayE     -3.526863e+01  8.183499e+03\n",
       "BetaDecayE_err  1.592489e+02  2.424600e+02"
      ]
     },
     "execution_count": 345,
     "metadata": {},
     "output_type": "execute_result"
    }
   ],
   "source": [
    "train_dataset.describe().transpose()[['mean', 'std']]"
   ]
  },
  {
   "cell_type": "code",
   "execution_count": 348,
   "metadata": {},
   "outputs": [],
   "source": [
    "normalizer = preprocessing.Normalization()\n",
    "normalizer.adapt(np.array(train_features))"
   ]
  },
  {
   "cell_type": "code",
   "execution_count": 412,
   "metadata": {},
   "outputs": [],
   "source": [
    "def build_and_compile_model(train_features):\n",
    "    model = keras.Sequential([\n",
    "        layers.Dense(16, input_dim=train_features.shape[1]),\n",
    "        layers.Dense(64, activation='relu'),\n",
    "        layers.Dense(64, activation='relu'),\n",
    "        layers.Dense(1)\n",
    "    ])\n",
    "\n",
    "    model.compile(loss='mean_absolute_error',\n",
    "                optimizer=tf.keras.optimizers.Adam(0.001))\n",
    "    return model"
   ]
  },
  {
   "cell_type": "code",
   "execution_count": 413,
   "metadata": {},
   "outputs": [],
   "source": [
    "dnn_BEA_model = build_and_compile_model(train_features)"
   ]
  },
  {
   "cell_type": "code",
   "execution_count": 414,
   "metadata": {},
   "outputs": [
    {
     "name": "stdout",
     "output_type": "stream",
     "text": [
      "Model: \"sequential_9\"\n",
      "_________________________________________________________________\n",
      "Layer (type)                 Output Shape              Param #   \n",
      "=================================================================\n",
      "dense_30 (Dense)             (None, 16)                48        \n",
      "_________________________________________________________________\n",
      "dense_31 (Dense)             (None, 64)                1088      \n",
      "_________________________________________________________________\n",
      "dense_32 (Dense)             (None, 64)                4160      \n",
      "_________________________________________________________________\n",
      "dense_33 (Dense)             (None, 1)                 65        \n",
      "=================================================================\n",
      "Total params: 5,361\n",
      "Trainable params: 5,361\n",
      "Non-trainable params: 0\n",
      "_________________________________________________________________\n"
     ]
    }
   ],
   "source": [
    "dnn_BEA_model.summary()"
   ]
  },
  {
   "cell_type": "code",
   "execution_count": 416,
   "metadata": {
    "scrolled": true
   },
   "outputs": [
    {
     "name": "stdout",
     "output_type": "stream",
     "text": [
      "Epoch 1/100\n",
      "69/69 [==============================] - 0s 4ms/step - loss: 855.2730 - val_loss: 786.0081\n",
      "Epoch 2/100\n",
      "69/69 [==============================] - 0s 3ms/step - loss: 743.7327 - val_loss: 644.7945\n",
      "Epoch 3/100\n",
      "69/69 [==============================] - 0s 3ms/step - loss: 632.2289 - val_loss: 532.9916\n",
      "Epoch 4/100\n",
      "69/69 [==============================] - 0s 3ms/step - loss: 538.6278 - val_loss: 438.9316\n",
      "Epoch 5/100\n",
      "69/69 [==============================] - 0s 4ms/step - loss: 439.2562 - val_loss: 345.2770\n",
      "Epoch 6/100\n",
      "69/69 [==============================] - 0s 3ms/step - loss: 301.0162 - val_loss: 224.8297\n",
      "Epoch 7/100\n",
      "69/69 [==============================] - 0s 3ms/step - loss: 239.8746 - val_loss: 301.7402\n",
      "Epoch 8/100\n",
      "69/69 [==============================] - 0s 3ms/step - loss: 217.1719 - val_loss: 173.8740\n",
      "Epoch 9/100\n",
      "69/69 [==============================] - 0s 3ms/step - loss: 220.3433 - val_loss: 186.7594\n",
      "Epoch 10/100\n",
      "69/69 [==============================] - 0s 3ms/step - loss: 205.0648 - val_loss: 176.4736\n",
      "Epoch 11/100\n",
      "69/69 [==============================] - 0s 3ms/step - loss: 219.8903 - val_loss: 180.0088\n",
      "Epoch 12/100\n",
      "69/69 [==============================] - 0s 3ms/step - loss: 193.9840 - val_loss: 156.6393\n",
      "Epoch 13/100\n",
      "69/69 [==============================] - 0s 3ms/step - loss: 218.8969 - val_loss: 168.6500\n",
      "Epoch 14/100\n",
      "69/69 [==============================] - 0s 3ms/step - loss: 182.2999 - val_loss: 155.3764\n",
      "Epoch 15/100\n",
      "69/69 [==============================] - 0s 3ms/step - loss: 182.5154 - val_loss: 148.1958\n",
      "Epoch 16/100\n",
      "69/69 [==============================] - 0s 3ms/step - loss: 219.8858 - val_loss: 145.2507\n",
      "Epoch 17/100\n",
      "69/69 [==============================] - 0s 3ms/step - loss: 190.5016 - val_loss: 147.6314\n",
      "Epoch 18/100\n",
      "69/69 [==============================] - 0s 3ms/step - loss: 179.2394 - val_loss: 190.9943\n",
      "Epoch 19/100\n",
      "69/69 [==============================] - 0s 3ms/step - loss: 170.7123 - val_loss: 175.5160\n",
      "Epoch 20/100\n",
      "69/69 [==============================] - 0s 3ms/step - loss: 179.3546 - val_loss: 161.0444\n",
      "Epoch 21/100\n",
      "69/69 [==============================] - 0s 3ms/step - loss: 218.4297 - val_loss: 194.9757\n",
      "Epoch 22/100\n",
      "69/69 [==============================] - 0s 4ms/step - loss: 176.9460 - val_loss: 144.3049\n",
      "Epoch 23/100\n",
      "69/69 [==============================] - 0s 4ms/step - loss: 172.2637 - val_loss: 142.3273\n",
      "Epoch 24/100\n",
      "69/69 [==============================] - 0s 3ms/step - loss: 176.2961 - val_loss: 205.0695\n",
      "Epoch 25/100\n",
      "69/69 [==============================] - 0s 4ms/step - loss: 193.1698 - val_loss: 211.7548\n",
      "Epoch 26/100\n",
      "69/69 [==============================] - 0s 3ms/step - loss: 175.7155 - val_loss: 169.2667\n",
      "Epoch 27/100\n",
      "69/69 [==============================] - 0s 3ms/step - loss: 170.3434 - val_loss: 132.5252\n",
      "Epoch 28/100\n",
      "69/69 [==============================] - 0s 3ms/step - loss: 176.2551 - val_loss: 188.2990\n",
      "Epoch 29/100\n",
      "69/69 [==============================] - 0s 4ms/step - loss: 175.7906 - val_loss: 139.5941\n",
      "Epoch 30/100\n",
      "69/69 [==============================] - 0s 3ms/step - loss: 174.0399 - val_loss: 133.0329\n",
      "Epoch 31/100\n",
      "69/69 [==============================] - 0s 3ms/step - loss: 172.0468 - val_loss: 149.3267\n",
      "Epoch 32/100\n",
      "69/69 [==============================] - 0s 3ms/step - loss: 161.3116 - val_loss: 149.6373\n",
      "Epoch 33/100\n",
      "69/69 [==============================] - 0s 3ms/step - loss: 167.0212 - val_loss: 132.8836\n",
      "Epoch 34/100\n",
      "69/69 [==============================] - 0s 3ms/step - loss: 175.5732 - val_loss: 186.0882\n",
      "Epoch 35/100\n",
      "69/69 [==============================] - 0s 3ms/step - loss: 162.8234 - val_loss: 131.6278\n",
      "Epoch 36/100\n",
      "69/69 [==============================] - 0s 3ms/step - loss: 182.6658 - val_loss: 177.1307\n",
      "Epoch 37/100\n",
      "69/69 [==============================] - 0s 3ms/step - loss: 161.8033 - val_loss: 158.8823\n",
      "Epoch 38/100\n",
      "69/69 [==============================] - 0s 3ms/step - loss: 166.5118 - val_loss: 127.4882\n",
      "Epoch 39/100\n",
      "69/69 [==============================] - 0s 3ms/step - loss: 158.4294 - val_loss: 147.3558\n",
      "Epoch 40/100\n",
      "69/69 [==============================] - 0s 3ms/step - loss: 152.9228 - val_loss: 127.9565\n",
      "Epoch 41/100\n",
      "69/69 [==============================] - 0s 3ms/step - loss: 151.4996 - val_loss: 129.9000\n",
      "Epoch 42/100\n",
      "69/69 [==============================] - 0s 3ms/step - loss: 154.4958 - val_loss: 135.6428\n",
      "Epoch 43/100\n",
      "69/69 [==============================] - 0s 3ms/step - loss: 177.2329 - val_loss: 176.2610\n",
      "Epoch 44/100\n",
      "69/69 [==============================] - 0s 3ms/step - loss: 168.5721 - val_loss: 202.3912\n",
      "Epoch 45/100\n",
      "69/69 [==============================] - 0s 3ms/step - loss: 170.0889 - val_loss: 135.7616\n",
      "Epoch 46/100\n",
      "69/69 [==============================] - 0s 3ms/step - loss: 171.2954 - val_loss: 132.7539\n",
      "Epoch 47/100\n",
      "69/69 [==============================] - 0s 3ms/step - loss: 160.6366 - val_loss: 127.8171\n",
      "Epoch 48/100\n",
      "69/69 [==============================] - 0s 3ms/step - loss: 156.0938 - val_loss: 125.7364\n",
      "Epoch 49/100\n",
      "69/69 [==============================] - 0s 3ms/step - loss: 149.2527 - val_loss: 129.5168\n",
      "Epoch 50/100\n",
      "69/69 [==============================] - 0s 3ms/step - loss: 151.9323 - val_loss: 122.0570\n",
      "Epoch 51/100\n",
      "69/69 [==============================] - 0s 3ms/step - loss: 143.9169 - val_loss: 153.9894\n",
      "Epoch 52/100\n",
      "69/69 [==============================] - 0s 4ms/step - loss: 176.6085 - val_loss: 131.0495\n",
      "Epoch 53/100\n",
      "69/69 [==============================] - 0s 3ms/step - loss: 147.2975 - val_loss: 123.6878\n",
      "Epoch 54/100\n",
      "69/69 [==============================] - 0s 3ms/step - loss: 149.7345 - val_loss: 153.1819\n",
      "Epoch 55/100\n",
      "69/69 [==============================] - 0s 3ms/step - loss: 167.3215 - val_loss: 133.4319\n",
      "Epoch 56/100\n",
      "69/69 [==============================] - 0s 3ms/step - loss: 142.7906 - val_loss: 120.4323\n",
      "Epoch 57/100\n",
      "69/69 [==============================] - 0s 3ms/step - loss: 158.7616 - val_loss: 213.5506\n",
      "Epoch 58/100\n",
      "69/69 [==============================] - 0s 3ms/step - loss: 154.8481 - val_loss: 124.3599\n",
      "Epoch 59/100\n",
      "69/69 [==============================] - 0s 3ms/step - loss: 169.4858 - val_loss: 157.0679\n",
      "Epoch 60/100\n",
      "69/69 [==============================] - 0s 3ms/step - loss: 154.6032 - val_loss: 124.2773\n",
      "Epoch 61/100\n",
      "69/69 [==============================] - 0s 3ms/step - loss: 153.1768 - val_loss: 125.6025\n",
      "Epoch 62/100\n",
      "69/69 [==============================] - 0s 3ms/step - loss: 156.9983 - val_loss: 186.7123\n",
      "Epoch 63/100\n",
      "69/69 [==============================] - 0s 3ms/step - loss: 160.4684 - val_loss: 132.4576\n",
      "Epoch 64/100\n",
      "69/69 [==============================] - 0s 3ms/step - loss: 149.4464 - val_loss: 129.6687\n",
      "Epoch 65/100\n",
      "69/69 [==============================] - 0s 3ms/step - loss: 149.7190 - val_loss: 164.3214\n",
      "Epoch 66/100\n",
      "69/69 [==============================] - 0s 3ms/step - loss: 144.8218 - val_loss: 148.2530\n",
      "Epoch 67/100\n",
      "69/69 [==============================] - 0s 3ms/step - loss: 165.2686 - val_loss: 122.3047\n",
      "Epoch 68/100\n",
      "69/69 [==============================] - 0s 3ms/step - loss: 140.5527 - val_loss: 174.5759\n",
      "Epoch 69/100\n",
      "69/69 [==============================] - 0s 3ms/step - loss: 160.4654 - val_loss: 136.5703\n",
      "Epoch 70/100\n",
      "69/69 [==============================] - 0s 3ms/step - loss: 141.0821 - val_loss: 119.4919\n",
      "Epoch 71/100\n",
      "69/69 [==============================] - 0s 3ms/step - loss: 141.5748 - val_loss: 148.8055\n",
      "Epoch 72/100\n",
      "69/69 [==============================] - 0s 3ms/step - loss: 152.9437 - val_loss: 147.1155\n",
      "Epoch 73/100\n",
      "69/69 [==============================] - 0s 4ms/step - loss: 142.4860 - val_loss: 121.9960\n",
      "Epoch 74/100\n",
      "69/69 [==============================] - 0s 3ms/step - loss: 142.4797 - val_loss: 142.2735\n",
      "Epoch 75/100\n",
      "69/69 [==============================] - 0s 3ms/step - loss: 152.3335 - val_loss: 123.1010\n",
      "Epoch 76/100\n",
      "69/69 [==============================] - 0s 3ms/step - loss: 149.9945 - val_loss: 123.6339\n",
      "Epoch 77/100\n",
      "69/69 [==============================] - 0s 3ms/step - loss: 148.3585 - val_loss: 145.5331\n",
      "Epoch 78/100\n",
      "69/69 [==============================] - 0s 3ms/step - loss: 150.7141 - val_loss: 114.5824\n",
      "Epoch 79/100\n",
      "69/69 [==============================] - 0s 3ms/step - loss: 162.0477 - val_loss: 176.9092\n",
      "Epoch 80/100\n",
      "69/69 [==============================] - 0s 3ms/step - loss: 154.6569 - val_loss: 211.2933\n",
      "Epoch 81/100\n",
      "69/69 [==============================] - 0s 4ms/step - loss: 179.8442 - val_loss: 114.6689\n",
      "Epoch 82/100\n",
      "69/69 [==============================] - 0s 4ms/step - loss: 138.3437 - val_loss: 124.0003\n",
      "Epoch 83/100\n",
      "69/69 [==============================] - 0s 3ms/step - loss: 160.1180 - val_loss: 118.3378\n",
      "Epoch 84/100\n",
      "69/69 [==============================] - 0s 3ms/step - loss: 137.5647 - val_loss: 117.2347\n",
      "Epoch 85/100\n",
      "69/69 [==============================] - 0s 3ms/step - loss: 157.5714 - val_loss: 118.5190\n",
      "Epoch 86/100\n",
      "69/69 [==============================] - 0s 3ms/step - loss: 148.7413 - val_loss: 132.2411\n",
      "Epoch 87/100\n",
      "69/69 [==============================] - 0s 4ms/step - loss: 146.7144 - val_loss: 127.0425\n",
      "Epoch 88/100\n",
      "69/69 [==============================] - 0s 3ms/step - loss: 133.4618 - val_loss: 145.7090\n",
      "Epoch 89/100\n",
      "69/69 [==============================] - 0s 3ms/step - loss: 155.0132 - val_loss: 236.8383\n",
      "Epoch 90/100\n",
      "69/69 [==============================] - 0s 3ms/step - loss: 156.9707 - val_loss: 132.0405\n",
      "Epoch 91/100\n",
      "69/69 [==============================] - 0s 3ms/step - loss: 133.0514 - val_loss: 138.3175\n",
      "Epoch 92/100\n",
      "69/69 [==============================] - 0s 3ms/step - loss: 143.0007 - val_loss: 127.8280\n",
      "Epoch 93/100\n",
      "69/69 [==============================] - 0s 4ms/step - loss: 130.1433 - val_loss: 114.7471\n",
      "Epoch 94/100\n",
      "69/69 [==============================] - 0s 3ms/step - loss: 146.5632 - val_loss: 215.5943\n",
      "Epoch 95/100\n",
      "69/69 [==============================] - 0s 4ms/step - loss: 160.4004 - val_loss: 159.6410\n",
      "Epoch 96/100\n",
      "69/69 [==============================] - 0s 3ms/step - loss: 159.9256 - val_loss: 115.0061\n",
      "Epoch 97/100\n",
      "69/69 [==============================] - 0s 4ms/step - loss: 127.0890 - val_loss: 116.3392\n",
      "Epoch 98/100\n",
      "69/69 [==============================] - 0s 4ms/step - loss: 164.4066 - val_loss: 125.8805\n",
      "Epoch 99/100\n",
      "69/69 [==============================] - 0s 4ms/step - loss: 144.3801 - val_loss: 134.3111\n",
      "Epoch 100/100\n",
      "69/69 [==============================] - 0s 3ms/step - loss: 146.6167 - val_loss: 133.4662\n",
      "Wall time: 23.5 s\n"
     ]
    }
   ],
   "source": [
    "%%time\n",
    "history = dnn_BEA_model.fit(\n",
    "    train_features, train_labels,\n",
    "    validation_split=0.2,\n",
    "    verbose=1, epochs=100)"
   ]
  },
  {
   "cell_type": "code",
   "execution_count": 382,
   "metadata": {},
   "outputs": [],
   "source": [
    "def plot_loss(history):\n",
    "    plt.plot(history.history['loss'], label='loss')\n",
    "    plt.plot(history.history['val_loss'], label='val_loss')\n",
    "    #plt.ylim([0, 10])\n",
    "    plt.xlabel('Epoch')\n",
    "    plt.ylabel('Error [Binding Energy/A, keV]')\n",
    "    plt.legend()\n",
    "    plt.grid(True)"
   ]
  },
  {
   "cell_type": "code",
   "execution_count": 417,
   "metadata": {},
   "outputs": [
    {
     "data": {
      "image/png": "[encoded data removed]",
      "text/plain": [
       "<Figure size 432x288 with 1 Axes>"
      ]
     },
     "metadata": {},
     "output_type": "display_data"
    }
   ],
   "source": [
    "plot_loss(history)"
   ]
  },
  {
   "cell_type": "code",
   "execution_count": 418,
   "metadata": {},
   "outputs": [
    {
     "data": {
      "text/plain": [
       "115.5657958984375"
      ]
     },
     "execution_count": 418,
     "metadata": {},
     "output_type": "execute_result"
    }
   ],
   "source": [
    "test_results = dnn_BEA_model.evaluate(test_features, test_labels, verbose=0)\n",
    "test_results"
   ]
  },
  {
   "cell_type": "code",
   "execution_count": 419,
   "metadata": {},
   "outputs": [
    {
     "data": {
      "text/plain": [
       "Text(0, 0.5, 'Predictions [keV]')"
      ]
     },
     "execution_count": 419,
     "metadata": {},
     "output_type": "execute_result"
    },
    {
     "data": {
      "image/png": "[encoded data removed]",
      "text/plain": [
       "<Figure size 432x288 with 1 Axes>"
      ]
     },
     "metadata": {},
     "output_type": "display_data"
    }
   ],
   "source": [
    "test_predictions = dnn_BEA_model.predict(test_features).flatten()\n",
    "\n",
    "plt.scatter(test_labels, test_predictions)\n",
    "plt.xlabel('True Values [keV]')\n",
    "plt.ylabel('Predictions [keV]')"
   ]
  },
  {
   "cell_type": "code",
   "execution_count": 420,
   "metadata": {},
   "outputs": [
    {
     "data": {
      "image/png": "[encoded data removed]",
      "text/plain": [
       "<Figure size 432x288 with 1 Axes>"
      ]
     },
     "metadata": {},
     "output_type": "display_data"
    }
   ],
   "source": [
    "error = np.array(test_predictions).reshape(len(test_predictions),1) - np.array(test_labels)\n",
    "plt.hist(error, bins=50)\n",
    "plt.xlabel('Prediction Error [keV]')\n",
    "plt.ylabel('Counts per Bin')\n",
    "plt.show()"
   ]
  }
 ],
 "metadata": {
  "kernelspec": {
   "display_name": "Python 3",
   "language": "python",
   "name": "python3"
  },
  "language_info": {
   "codemirror_mode": {
    "name": "ipython",
    "version": 3
   },
   "file_extension": ".py",
   "mimetype": "text/x-python",
   "name": "python",
   "nbconvert_exporter": "python",
   "pygments_lexer": "ipython3",
   "version": "3.8.5"
  }
 },
 "nbformat": 4,
 "nbformat_minor": 4
}
